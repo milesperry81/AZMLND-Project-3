{
 "cells": [
  {
   "cell_type": "markdown",
   "metadata": {},
   "source": [
    "# Automated ML\n",
    "\n",
    "TODO: Import Dependencies. In the cell below, import all the dependencies that you will need to complete the project."
   ]
  },
  {
   "cell_type": "code",
   "execution_count": 1,
   "metadata": {
    "gather": {
     "logged": 1598423888013
    },
    "jupyter": {
     "outputs_hidden": false,
     "source_hidden": false
    },
    "nteract": {
     "transient": {
      "deleting": false
     }
    }
   },
   "outputs": [],
   "source": [
    "from azureml.core import Workspace, Experiment, Dataset\n",
    "from azureml.train.automl import AutoMLConfig\n",
    "from azureml.core.compute import ComputeTarget, AmlCompute\n",
    "from azureml.core.compute_target import ComputeTargetException\n",
    "from azureml.widgets import RunDetails\n",
    "from azureml.core import Model, Environment\n",
    "from azureml.core.model import InferenceConfig\n",
    "from azureml.core.webservice import AciWebservice\n",
    "import json"
   ]
  },
  {
   "cell_type": "markdown",
   "metadata": {},
   "source": [
    "## Dataset\n",
    "\n",
    "### Overview\n",
    "TODO: In this markdown cell, give an overview of the dataset you are using. Also mention the task you will be performing.\n",
    "\n",
    "TODO: Get data. In the cell below, write code to access the data you will be using in this project. Remember that the dataset needs to be external.\n",
    "\n",
    "For this experiment I will be using Azure AutoML to make predictions regarding the likelyhood of a death event based on a patient's features as found in the Heart Failure Prediction data set on Kaggle. https://www.kaggle.com/andrewmvd/heart-failure-clinical-data\n",
    "\n",
    "Features and target (DEATH_EVENT) of the dataset are:\n",
    "\n",
    "* \"age\": Age of patient\n",
    "* \"anaemia\": Decrease of red blood cells or hemoglobin (boolean)\n",
    "* \"creatinine_phosphokinase\": Level of the CPK enzyme in the blood (mcg/L)\n",
    "* \"diabetes\": If the patient has diabetes (boolean)\n",
    "* \"ejection_fraction\": Percentage of blood leaving the heart at each contraction (percentage)\n",
    "* \"high_blood_pressure\": If the patient has hypertension (boolean)\n",
    "* \"platelets\": Platelets in the blood (kiloplatelets/mL)\n",
    "* \"serum_creatinine\": Level of serum creatinine in the blood (mg/dL)\n",
    "* \"serum_sodium\": Level of serum sodium in the blood (mEq/L)\n",
    "* \"sex\": Woman or man (binary)\n",
    "* \"smoking\": If the patient smokes or not (boolean)\n",
    "* \"time\": Follow-up period (days)\n",
    "* \"DEATH_EVENT\": If the patient deceased during the follow-up period (boolean)"
   ]
  },
  {
   "cell_type": "code",
   "execution_count": 2,
   "metadata": {
    "gather": {
     "logged": 1598423890461
    },
    "jupyter": {
     "outputs_hidden": false,
     "source_hidden": false
    },
    "nteract": {
     "transient": {
      "deleting": false
     }
    }
   },
   "outputs": [],
   "source": [
    "# Load the workspace details from the config file.\n",
    "ws = Workspace.from_config()\n",
    "\n",
    "# Choose a name for experiment and create a new experiment.\n",
    "experiment_name = 'udacity-exp-automl'\n",
    "experiment=Experiment(ws, experiment_name)"
   ]
  },
  {
   "cell_type": "code",
   "execution_count": 3,
   "metadata": {},
   "outputs": [
    {
     "data": {
      "text/html": [
       "<div>\n",
       "<style scoped>\n",
       "    .dataframe tbody tr th:only-of-type {\n",
       "        vertical-align: middle;\n",
       "    }\n",
       "\n",
       "    .dataframe tbody tr th {\n",
       "        vertical-align: top;\n",
       "    }\n",
       "\n",
       "    .dataframe thead th {\n",
       "        text-align: right;\n",
       "    }\n",
       "</style>\n",
       "<table border=\"1\" class=\"dataframe\">\n",
       "  <thead>\n",
       "    <tr style=\"text-align: right;\">\n",
       "      <th></th>\n",
       "      <th>age</th>\n",
       "      <th>anaemia</th>\n",
       "      <th>creatinine_phosphokinase</th>\n",
       "      <th>diabetes</th>\n",
       "      <th>ejection_fraction</th>\n",
       "      <th>high_blood_pressure</th>\n",
       "      <th>platelets</th>\n",
       "      <th>serum_creatinine</th>\n",
       "      <th>serum_sodium</th>\n",
       "      <th>sex</th>\n",
       "      <th>smoking</th>\n",
       "      <th>time</th>\n",
       "      <th>DEATH_EVENT</th>\n",
       "    </tr>\n",
       "  </thead>\n",
       "  <tbody>\n",
       "    <tr>\n",
       "      <th>0</th>\n",
       "      <td>75.0</td>\n",
       "      <td>0</td>\n",
       "      <td>582</td>\n",
       "      <td>0</td>\n",
       "      <td>20</td>\n",
       "      <td>1</td>\n",
       "      <td>265000.00</td>\n",
       "      <td>1.9</td>\n",
       "      <td>130</td>\n",
       "      <td>1</td>\n",
       "      <td>0</td>\n",
       "      <td>4</td>\n",
       "      <td>1</td>\n",
       "    </tr>\n",
       "    <tr>\n",
       "      <th>1</th>\n",
       "      <td>55.0</td>\n",
       "      <td>0</td>\n",
       "      <td>7861</td>\n",
       "      <td>0</td>\n",
       "      <td>38</td>\n",
       "      <td>0</td>\n",
       "      <td>263358.03</td>\n",
       "      <td>1.1</td>\n",
       "      <td>136</td>\n",
       "      <td>1</td>\n",
       "      <td>0</td>\n",
       "      <td>6</td>\n",
       "      <td>1</td>\n",
       "    </tr>\n",
       "    <tr>\n",
       "      <th>2</th>\n",
       "      <td>65.0</td>\n",
       "      <td>0</td>\n",
       "      <td>146</td>\n",
       "      <td>0</td>\n",
       "      <td>20</td>\n",
       "      <td>0</td>\n",
       "      <td>162000.00</td>\n",
       "      <td>1.3</td>\n",
       "      <td>129</td>\n",
       "      <td>1</td>\n",
       "      <td>1</td>\n",
       "      <td>7</td>\n",
       "      <td>1</td>\n",
       "    </tr>\n",
       "    <tr>\n",
       "      <th>3</th>\n",
       "      <td>50.0</td>\n",
       "      <td>1</td>\n",
       "      <td>111</td>\n",
       "      <td>0</td>\n",
       "      <td>20</td>\n",
       "      <td>0</td>\n",
       "      <td>210000.00</td>\n",
       "      <td>1.9</td>\n",
       "      <td>137</td>\n",
       "      <td>1</td>\n",
       "      <td>0</td>\n",
       "      <td>7</td>\n",
       "      <td>1</td>\n",
       "    </tr>\n",
       "    <tr>\n",
       "      <th>4</th>\n",
       "      <td>65.0</td>\n",
       "      <td>1</td>\n",
       "      <td>160</td>\n",
       "      <td>1</td>\n",
       "      <td>20</td>\n",
       "      <td>0</td>\n",
       "      <td>327000.00</td>\n",
       "      <td>2.7</td>\n",
       "      <td>116</td>\n",
       "      <td>0</td>\n",
       "      <td>0</td>\n",
       "      <td>8</td>\n",
       "      <td>1</td>\n",
       "    </tr>\n",
       "  </tbody>\n",
       "</table>\n",
       "</div>"
      ],
      "text/plain": [
       "    age  anaemia  creatinine_phosphokinase  diabetes  ejection_fraction  \\\n",
       "0  75.0        0                       582         0                 20   \n",
       "1  55.0        0                      7861         0                 38   \n",
       "2  65.0        0                       146         0                 20   \n",
       "3  50.0        1                       111         0                 20   \n",
       "4  65.0        1                       160         1                 20   \n",
       "\n",
       "   high_blood_pressure  platelets  serum_creatinine  serum_sodium  sex  \\\n",
       "0                    1  265000.00               1.9           130    1   \n",
       "1                    0  263358.03               1.1           136    1   \n",
       "2                    0  162000.00               1.3           129    1   \n",
       "3                    0  210000.00               1.9           137    1   \n",
       "4                    0  327000.00               2.7           116    0   \n",
       "\n",
       "   smoking  time  DEATH_EVENT  \n",
       "0        0     4            1  \n",
       "1        0     6            1  \n",
       "2        1     7            1  \n",
       "3        0     7            1  \n",
       "4        0     8            1  "
      ]
     },
     "execution_count": 3,
     "metadata": {},
     "output_type": "execute_result"
    }
   ],
   "source": [
    "# Load the registered dataset from the workspace.\n",
    "dataset = Dataset.get_by_name(ws, name='heart_failure_data')\n",
    "\n",
    "# Display the head of the dataset.\n",
    "dataset.to_pandas_dataframe().head()"
   ]
  },
  {
   "cell_type": "code",
   "execution_count": 14,
   "metadata": {},
   "outputs": [
    {
     "name": "stdout",
     "output_type": "stream",
     "text": [
      "Creating\n",
      "Succeeded\n",
      "AmlCompute wait for completion finished\n",
      "\n",
      "Minimum number of nodes requested have been provisioned\n"
     ]
    }
   ],
   "source": [
    "# Create compute cluster. If it does not exist then create one.\n",
    "cpu_cluster_name = \"udacity-comp-cst\"\n",
    "\n",
    "try:\n",
    "    cpu_cluster = ComputeTarget(workspace=ws, name=cpu_cluster_name)\n",
    "    print(\"Found existing cluster\")\n",
    "    \n",
    "except ComputeTargetException:    \n",
    "    compute_config = AmlCompute.provisioning_configuration(vm_size = \"Standard_DS12_V2\", \n",
    "                                                           max_nodes=4,\n",
    "                                                          idle_seconds_before_scaledown=600,\n",
    "                                                          vm_priority='lowpriority')\n",
    "    cpu_cluster = ComputeTarget.create(ws, cpu_cluster_name, compute_config)\n",
    "    \n",
    "cpu_cluster.wait_for_completion(show_output=True)"
   ]
  },
  {
   "cell_type": "markdown",
   "metadata": {},
   "source": [
    "## AutoML Configuration\n",
    "\n",
    "TODO: Explain why you chose the automl settings and configuration you used below.\n",
    "* \"n_cross_validations\": I used 3 so that 3 different cross validation trainings were performed, each using 2/3 of the available data. For my small dataset and demostration purposes this value was ok. For larger datasets I would go go a higher number so that we get more data used in training and a smaller validation set.\n",
    "* \"primary_metric\": For this experiment accuracy is a suitable metric for classification task.\n",
    "* \"enable_early_stopping\": This will end the experiment is primary_metric is not improving, which will save me time waiting for experiment to end.  \n",
    "* \"experiment_timeout_hours\": If expeirment takes more than 1 hour it will timeout. This is to avoid length experiments running unnecessarily.\n",
    "* \"max_concurrent_iterations\": This is the max number of concurrent iterations of the expeirment. I set it to 4 as 1 iteration can run on 1 node of the compute cluster, which has 4 nodes.\n",
    "* \"max_cores_per_iteration\": The max number of cpu threads to use for an iteration. I set this to -1 so as to use all available threads.\n",
    "* \"iteration_timeout_minutes\": This is the timeout for each iteration. I set this to 15 minutes as I was not interested in anything take longer than this to run for my current experiment.\n",
    "* \"verbosity\": I choose default the level of logging for my experiment. \n",
    "* \"iterations\": I set the maximum number of iterations for AutoML to run to be 40. This seemed like a reasonable number of iterations for the course without taking up too much time and compute on the Azure platform. \n",
    "* \"task\": The task is to predict a death event which is a classification task (yes/no).\n",
    "* \"compute_target\": I set this to my computer cluster that I created earlier in the notebook.\n",
    "* \"training_data\": This was set to the dataset that I loaded earlier.\n",
    "* \"label_column_name\": This was set to the column DEATH_EVENT in the imported dataset. It is the column we wish to predict."
   ]
  },
  {
   "cell_type": "code",
   "execution_count": 15,
   "metadata": {
    "gather": {
     "logged": 1598429217746
    },
    "jupyter": {
     "outputs_hidden": false,
     "source_hidden": false
    },
    "nteract": {
     "transient": {
      "deleting": false
     }
    }
   },
   "outputs": [],
   "source": [
    "# TODO: Put your automl settings here\n",
    "automl_settings = {\n",
    "        \"n_cross_validations\": 3,\n",
    "        \"primary_metric\": 'accuracy',\n",
    "        \"enable_early_stopping\": True,\n",
    "        \"experiment_timeout_hours\": 1.0,\n",
    "        \"max_concurrent_iterations\": 4,\n",
    "        \"max_cores_per_iteration\": -1,\n",
    "        \"iteration_timeout_minutes\": 15,\n",
    "        \"verbosity\": logging.INFO,\n",
    "        \"iterations\": 40\n",
    "        }\n",
    "\n",
    "# TODO: Put your automl config here\n",
    "automl_config = AutoMLConfig(\n",
    "                                task = 'classification',\n",
    "                                compute_target = cpu_cluster_name,\n",
    "                                training_data = dataset,\n",
    "                                label_column_name = 'DEATH_EVENT',\n",
    "                                **automl_settings\n",
    "                            )"
   ]
  },
  {
   "cell_type": "code",
   "execution_count": 16,
   "metadata": {
    "gather": {
     "logged": 1598431107951
    },
    "jupyter": {
     "outputs_hidden": false,
     "source_hidden": false
    },
    "nteract": {
     "transient": {
      "deleting": false
     }
    }
   },
   "outputs": [
    {
     "name": "stdout",
     "output_type": "stream",
     "text": [
      "Running on remote.\n",
      "No run_configuration provided, running on udacity-comp-cst with default configuration\n",
      "Running on remote compute: udacity-comp-cst\n",
      "Parent Run ID: AutoML_9c66d14c-e778-4e7e-ad2d-8a425cd3b51a\n",
      "\n",
      "Current status: FeaturesGeneration. Generating features for the dataset.\n",
      "Current status: DatasetCrossValidationSplit. Generating individually featurized CV splits.\n",
      "Current status: ModelSelection. Beginning model selection.\n",
      "\n",
      "****************************************************************************************************\n",
      "DATA GUARDRAILS: \n",
      "\n",
      "TYPE:         Class balancing detection\n",
      "STATUS:       PASSED\n",
      "DESCRIPTION:  Your inputs were analyzed, and all classes are balanced in your training data.\n",
      "              Learn more about imbalanced data: https://aka.ms/AutomatedMLImbalancedData\n",
      "\n",
      "****************************************************************************************************\n",
      "\n",
      "TYPE:         Missing feature values imputation\n",
      "STATUS:       PASSED\n",
      "DESCRIPTION:  No feature missing values were detected in the training data.\n",
      "              Learn more about missing value imputation: https://aka.ms/AutomatedMLFeaturization\n",
      "\n",
      "****************************************************************************************************\n",
      "\n",
      "TYPE:         High cardinality feature detection\n",
      "STATUS:       PASSED\n",
      "DESCRIPTION:  Your inputs were analyzed, and no high cardinality features were detected.\n",
      "              Learn more about high cardinality feature handling: https://aka.ms/AutomatedMLFeaturization\n",
      "\n",
      "****************************************************************************************************\n",
      "\n",
      "****************************************************************************************************\n",
      "ITERATION: The iteration being evaluated.\n",
      "PIPELINE: A summary description of the pipeline being evaluated.\n",
      "DURATION: Time taken for the current iteration.\n",
      "METRIC: The result of computing score on the fitted pipeline.\n",
      "BEST: The best observed score thus far.\n",
      "****************************************************************************************************\n",
      "\n",
      " ITERATION   PIPELINE                                       DURATION      METRIC      BEST\n",
      "         3   MinMaxScaler RandomForest                      0:00:57       0.8194    0.8194\n",
      "         1   MaxAbsScaler XGBoostClassifier                 0:01:00       0.8193    0.8194\n",
      "         0   MaxAbsScaler LightGBM                          0:01:00       0.8025    0.8194\n",
      "         2   MinMaxScaler RandomForest                      0:01:00       0.8194    0.8194\n",
      "         5   RobustScaler LightGBM                          0:01:00       0.8394    0.8394\n",
      "         4   MinMaxScaler RandomForest                      0:02:12       0.8461    0.8461\n",
      "         6   StandardScalerWrapper XGBoostClassifier        0:00:54       0.8428    0.8461\n",
      "         7   MinMaxScaler SVM                               0:00:50       0.7224    0.8461\n",
      "         8   SparseNormalizer XGBoostClassifier             0:00:52       0.8228    0.8461\n",
      "        10   SparseNormalizer XGBoostClassifier             0:01:13       0.8128    0.8461\n",
      "         9   SparseNormalizer XGBoostClassifier             0:01:26       0.8060    0.8461\n",
      "        11   MaxAbsScaler GradientBoosting                  0:00:59       0.8327    0.8461\n",
      "        12   SparseNormalizer LightGBM                      0:00:58       0.8126    0.8461\n",
      "        14   MaxAbsScaler LightGBM                          0:00:55       0.7993    0.8461\n",
      "        13   MaxAbsScaler ExtremeRandomTrees                0:01:03       0.8228    0.8461\n",
      "        15   StandardScalerWrapper RandomForest             0:00:57       0.8161    0.8461\n",
      "        16   MaxAbsScaler LightGBM                          0:01:06       0.7993    0.8461\n",
      "        18   StandardScalerWrapper XGBoostClassifier        0:00:53       0.8361    0.8461\n",
      "        17   SparseNormalizer XGBoostClassifier             0:01:57       0.8094    0.8461\n",
      "        19   RobustScaler RandomForest                      0:01:04       0.8259    0.8461\n",
      "        20   SparseNormalizer GradientBoosting              0:00:52       0.7794    0.8461\n",
      "        21   SparseNormalizer XGBoostClassifier             0:01:00       0.8161    0.8461\n",
      "        22   StandardScalerWrapper LightGBM                 0:00:49       0.7224    0.8461\n",
      "        23   MaxAbsScaler RandomForest                      0:01:02       0.8060    0.8461\n",
      "        24   TruncatedSVDWrapper XGBoostClassifier          0:00:54       0.7557    0.8461\n",
      "        26   MinMaxScaler LightGBM                          0:00:52       0.8060    0.8461\n",
      "        25   StandardScalerWrapper RandomForest             0:00:51       0.7459    0.8461\n",
      "        27   MaxAbsScaler ExtremeRandomTrees                0:01:05       0.8025    0.8461\n",
      "        28   StandardScalerWrapper ExtremeRandomTrees       0:01:01       0.7991    0.8461\n",
      "        29   MaxAbsScaler ExtremeRandomTrees                0:00:57       0.7557    0.8461\n",
      "        30   SparseNormalizer RandomForest                  0:00:59       0.6519    0.8461\n",
      "        32   StandardScalerWrapper LightGBM                 0:00:53       0.8327    0.8461\n",
      "        31   MaxAbsScaler LightGBM                          0:01:12       0.8361    0.8461\n",
      "        33                                                  0:00:24          nan    0.8461\n",
      "        34                                                  0:01:10          nan    0.8461\n",
      "        35                                                  0:00:22          nan    0.8461\n",
      "        36    VotingEnsemble                                0:01:23       0.8663    0.8663\n",
      "        37    StackEnsemble                                 0:01:29       0.8293    0.8663\n"
     ]
    }
   ],
   "source": [
    "# TODO: Submit your experiment\n",
    "remote_run = experiment.submit(automl_config, show_output=True)"
   ]
  },
  {
   "cell_type": "markdown",
   "metadata": {},
   "source": [
    "## Run Details\n",
    "\n",
    "OPTIONAL: Write about the different models trained and their performance. Why do you think some models did better than others?\n",
    "\n",
    "TODO: In the cell below, use the `RunDetails` widget to show the different experiments."
   ]
  },
  {
   "cell_type": "code",
   "execution_count": 17,
   "metadata": {
    "gather": {
     "logged": 1598431121770
    },
    "jupyter": {
     "outputs_hidden": false,
     "source_hidden": false
    },
    "nteract": {
     "transient": {
      "deleting": false
     }
    }
   },
   "outputs": [
    {
     "data": {
      "application/vnd.jupyter.widget-view+json": {
       "model_id": "565b8d24fb0b464f8a3341106c854847",
       "version_major": 2,
       "version_minor": 0
      },
      "text/plain": [
       "_AutoMLWidget(widget_settings={'childWidgetDisplay': 'popup', 'send_telemetry': False, 'log_level': 'INFO', 's…"
      ]
     },
     "metadata": {},
     "output_type": "display_data"
    },
    {
     "data": {
      "application/aml.mini.widget.v1": "{\"status\": \"Completed\", \"workbench_run_details_uri\": \"https://ml.azure.com/experiments/udacity-exp-automl/runs/AutoML_9c66d14c-e778-4e7e-ad2d-8a425cd3b51a?wsid=/subscriptions/12d8a290-6d86-4923-bc31-637a3ee790ed/resourcegroups/udacity-rg/workspaces/udacity-ws\", \"run_id\": \"AutoML_9c66d14c-e778-4e7e-ad2d-8a425cd3b51a\", \"run_properties\": {\"run_id\": \"AutoML_9c66d14c-e778-4e7e-ad2d-8a425cd3b51a\", \"created_utc\": \"2021-01-09T05:39:20.152774Z\", \"properties\": {\"num_iterations\": \"40\", \"training_type\": \"TrainFull\", \"acquisition_function\": \"EI\", \"primary_metric\": \"accuracy\", \"train_split\": \"0\", \"acquisition_parameter\": \"0\", \"num_cross_validation\": \"3\", \"target\": \"udacity-comp-cst\", \"AMLSettingsJsonString\": \"{\\\"path\\\":null,\\\"name\\\":\\\"udacity-exp-automl\\\",\\\"subscription_id\\\":\\\"12d8a290-6d86-4923-bc31-637a3ee790ed\\\",\\\"resource_group\\\":\\\"udacity-rg\\\",\\\"workspace_name\\\":\\\"udacity-ws\\\",\\\"region\\\":\\\"eastus\\\",\\\"compute_target\\\":\\\"udacity-comp-cst\\\",\\\"spark_service\\\":null,\\\"azure_service\\\":\\\"remote\\\",\\\"many_models\\\":false,\\\"pipeline_fetch_max_batch_size\\\":1,\\\"iterations\\\":40,\\\"primary_metric\\\":\\\"accuracy\\\",\\\"task_type\\\":\\\"classification\\\",\\\"data_script\\\":null,\\\"validation_size\\\":0.0,\\\"n_cross_validations\\\":3,\\\"y_min\\\":null,\\\"y_max\\\":null,\\\"num_classes\\\":null,\\\"featurization\\\":\\\"auto\\\",\\\"_ignore_package_version_incompatibilities\\\":false,\\\"is_timeseries\\\":false,\\\"max_cores_per_iteration\\\":-1,\\\"max_concurrent_iterations\\\":4,\\\"iteration_timeout_minutes\\\":15,\\\"mem_in_mb\\\":null,\\\"enforce_time_on_windows\\\":false,\\\"experiment_timeout_minutes\\\":60,\\\"experiment_exit_score\\\":null,\\\"whitelist_models\\\":null,\\\"blacklist_algos\\\":[\\\"TensorFlowLinearClassifier\\\",\\\"TensorFlowDNN\\\"],\\\"supported_models\\\":[\\\"TensorFlowLinearClassifier\\\",\\\"BernoulliNaiveBayes\\\",\\\"DecisionTree\\\",\\\"TensorFlowDNN\\\",\\\"GradientBoosting\\\",\\\"MultinomialNaiveBayes\\\",\\\"LinearSVM\\\",\\\"RandomForest\\\",\\\"KNN\\\",\\\"SGD\\\",\\\"ExtremeRandomTrees\\\",\\\"LightGBM\\\",\\\"SVM\\\",\\\"LogisticRegression\\\",\\\"XGBoostClassifier\\\",\\\"AveragedPerceptronClassifier\\\"],\\\"auto_blacklist\\\":true,\\\"blacklist_samples_reached\\\":false,\\\"exclude_nan_labels\\\":true,\\\"verbosity\\\":20,\\\"_debug_log\\\":\\\"azureml_automl.log\\\",\\\"show_warnings\\\":false,\\\"model_explainability\\\":true,\\\"service_url\\\":null,\\\"sdk_url\\\":null,\\\"sdk_packages\\\":null,\\\"enable_onnx_compatible_models\\\":false,\\\"enable_split_onnx_featurizer_estimator_models\\\":false,\\\"vm_type\\\":\\\"STANDARD_DS12_V2\\\",\\\"telemetry_verbosity\\\":20,\\\"send_telemetry\\\":true,\\\"enable_dnn\\\":false,\\\"scenario\\\":\\\"SDK-1.13.0\\\",\\\"environment_label\\\":null,\\\"force_text_dnn\\\":false,\\\"enable_feature_sweeping\\\":true,\\\"enable_early_stopping\\\":true,\\\"early_stopping_n_iters\\\":10,\\\"metrics\\\":null,\\\"enable_ensembling\\\":true,\\\"enable_stack_ensembling\\\":true,\\\"ensemble_iterations\\\":15,\\\"enable_tf\\\":false,\\\"enable_subsampling\\\":false,\\\"subsample_seed\\\":null,\\\"enable_nimbusml\\\":false,\\\"enable_streaming\\\":false,\\\"force_streaming\\\":false,\\\"track_child_runs\\\":true,\\\"allowed_private_models\\\":[],\\\"label_column_name\\\":\\\"DEATH_EVENT\\\",\\\"weight_column_name\\\":null,\\\"cv_split_column_names\\\":null,\\\"enable_local_managed\\\":false,\\\"_local_managed_run_id\\\":null,\\\"cost_mode\\\":1,\\\"lag_length\\\":0,\\\"metric_operation\\\":\\\"maximize\\\",\\\"preprocess\\\":true}\", \"DataPrepJsonString\": \"{\\\\\\\"training_data\\\\\\\": \\\\\\\"{\\\\\\\\\\\\\\\"blocks\\\\\\\\\\\\\\\": [{\\\\\\\\\\\\\\\"id\\\\\\\\\\\\\\\": \\\\\\\\\\\\\\\"50b36d2b-edcf-4bab-b81f-dea42ee90131\\\\\\\\\\\\\\\", \\\\\\\\\\\\\\\"type\\\\\\\\\\\\\\\": \\\\\\\\\\\\\\\"Microsoft.DPrep.GetDatastoreFilesBlock\\\\\\\\\\\\\\\", \\\\\\\\\\\\\\\"arguments\\\\\\\\\\\\\\\": {\\\\\\\\\\\\\\\"datastores\\\\\\\\\\\\\\\": [{\\\\\\\\\\\\\\\"datastoreName\\\\\\\\\\\\\\\": \\\\\\\\\\\\\\\"workspaceblobstore\\\\\\\\\\\\\\\", \\\\\\\\\\\\\\\"path\\\\\\\\\\\\\\\": \\\\\\\\\\\\\\\"UI/01-09-2021_045425_UTC/heart_failure_clinical_records_dataset.csv\\\\\\\\\\\\\\\", \\\\\\\\\\\\\\\"resourceGroup\\\\\\\\\\\\\\\": \\\\\\\\\\\\\\\"udacity-rg\\\\\\\\\\\\\\\", \\\\\\\\\\\\\\\"subscription\\\\\\\\\\\\\\\": \\\\\\\\\\\\\\\"12d8a290-6d86-4923-bc31-637a3ee790ed\\\\\\\\\\\\\\\", \\\\\\\\\\\\\\\"workspaceName\\\\\\\\\\\\\\\": \\\\\\\\\\\\\\\"udacity-ws\\\\\\\\\\\\\\\"}]}, \\\\\\\\\\\\\\\"localData\\\\\\\\\\\\\\\": {}, \\\\\\\\\\\\\\\"isEnabled\\\\\\\\\\\\\\\": true, \\\\\\\\\\\\\\\"name\\\\\\\\\\\\\\\": null, \\\\\\\\\\\\\\\"annotation\\\\\\\\\\\\\\\": null}, {\\\\\\\\\\\\\\\"id\\\\\\\\\\\\\\\": \\\\\\\\\\\\\\\"d1aea7f1-732c-4f2a-b7c3-6304e0f51be9\\\\\\\\\\\\\\\", \\\\\\\\\\\\\\\"type\\\\\\\\\\\\\\\": \\\\\\\\\\\\\\\"Microsoft.DPrep.ParseDelimitedBlock\\\\\\\\\\\\\\\", \\\\\\\\\\\\\\\"arguments\\\\\\\\\\\\\\\": {\\\\\\\\\\\\\\\"columnHeadersMode\\\\\\\\\\\\\\\": 1, \\\\\\\\\\\\\\\"fileEncoding\\\\\\\\\\\\\\\": 0, \\\\\\\\\\\\\\\"handleQuotedLineBreaks\\\\\\\\\\\\\\\": false, \\\\\\\\\\\\\\\"preview\\\\\\\\\\\\\\\": false, \\\\\\\\\\\\\\\"separator\\\\\\\\\\\\\\\": \\\\\\\\\\\\\\\",\\\\\\\\\\\\\\\", \\\\\\\\\\\\\\\"skipRows\\\\\\\\\\\\\\\": 0, \\\\\\\\\\\\\\\"skipRowsMode\\\\\\\\\\\\\\\": 0}, \\\\\\\\\\\\\\\"localData\\\\\\\\\\\\\\\": {}, \\\\\\\\\\\\\\\"isEnabled\\\\\\\\\\\\\\\": true, \\\\\\\\\\\\\\\"name\\\\\\\\\\\\\\\": null, \\\\\\\\\\\\\\\"annotation\\\\\\\\\\\\\\\": null}, {\\\\\\\\\\\\\\\"id\\\\\\\\\\\\\\\": \\\\\\\\\\\\\\\"53dea037-56d4-4bf2-9ef3-50007d301b35\\\\\\\\\\\\\\\", \\\\\\\\\\\\\\\"type\\\\\\\\\\\\\\\": \\\\\\\\\\\\\\\"Microsoft.DPrep.DropColumnsBlock\\\\\\\\\\\\\\\", \\\\\\\\\\\\\\\"arguments\\\\\\\\\\\\\\\": {\\\\\\\\\\\\\\\"columns\\\\\\\\\\\\\\\": {\\\\\\\\\\\\\\\"type\\\\\\\\\\\\\\\": 0, \\\\\\\\\\\\\\\"details\\\\\\\\\\\\\\\": {\\\\\\\\\\\\\\\"selectedColumns\\\\\\\\\\\\\\\": [\\\\\\\\\\\\\\\"Path\\\\\\\\\\\\\\\"]}}}, \\\\\\\\\\\\\\\"localData\\\\\\\\\\\\\\\": {}, \\\\\\\\\\\\\\\"isEnabled\\\\\\\\\\\\\\\": true, \\\\\\\\\\\\\\\"name\\\\\\\\\\\\\\\": null, \\\\\\\\\\\\\\\"annotation\\\\\\\\\\\\\\\": null}, {\\\\\\\\\\\\\\\"id\\\\\\\\\\\\\\\": \\\\\\\\\\\\\\\"5f968397-9df7-42e7-b475-274010564965\\\\\\\\\\\\\\\", \\\\\\\\\\\\\\\"type\\\\\\\\\\\\\\\": \\\\\\\\\\\\\\\"Microsoft.DPrep.SetColumnTypesBlock\\\\\\\\\\\\\\\", \\\\\\\\\\\\\\\"arguments\\\\\\\\\\\\\\\": {\\\\\\\\\\\\\\\"columnConversion\\\\\\\\\\\\\\\": [{\\\\\\\\\\\\\\\"column\\\\\\\\\\\\\\\": {\\\\\\\\\\\\\\\"type\\\\\\\\\\\\\\\": 2, \\\\\\\\\\\\\\\"details\\\\\\\\\\\\\\\": {\\\\\\\\\\\\\\\"selectedColumn\\\\\\\\\\\\\\\": \\\\\\\\\\\\\\\"Path\\\\\\\\\\\\\\\"}}, \\\\\\\\\\\\\\\"typeProperty\\\\\\\\\\\\\\\": 0}, {\\\\\\\\\\\\\\\"column\\\\\\\\\\\\\\\": {\\\\\\\\\\\\\\\"type\\\\\\\\\\\\\\\": 2, \\\\\\\\\\\\\\\"details\\\\\\\\\\\\\\\": {\\\\\\\\\\\\\\\"selectedColumn\\\\\\\\\\\\\\\": \\\\\\\\\\\\\\\"age\\\\\\\\\\\\\\\"}}, \\\\\\\\\\\\\\\"typeProperty\\\\\\\\\\\\\\\": 3}, {\\\\\\\\\\\\\\\"column\\\\\\\\\\\\\\\": {\\\\\\\\\\\\\\\"type\\\\\\\\\\\\\\\": 2, \\\\\\\\\\\\\\\"details\\\\\\\\\\\\\\\": {\\\\\\\\\\\\\\\"selectedColumn\\\\\\\\\\\\\\\": \\\\\\\\\\\\\\\"anaemia\\\\\\\\\\\\\\\"}}, \\\\\\\\\\\\\\\"typeProperty\\\\\\\\\\\\\\\": 2}, {\\\\\\\\\\\\\\\"column\\\\\\\\\\\\\\\": {\\\\\\\\\\\\\\\"type\\\\\\\\\\\\\\\": 2, \\\\\\\\\\\\\\\"details\\\\\\\\\\\\\\\": {\\\\\\\\\\\\\\\"selectedColumn\\\\\\\\\\\\\\\": \\\\\\\\\\\\\\\"creatinine_phosphokinase\\\\\\\\\\\\\\\"}}, \\\\\\\\\\\\\\\"typeProperty\\\\\\\\\\\\\\\": 2}, {\\\\\\\\\\\\\\\"column\\\\\\\\\\\\\\\": {\\\\\\\\\\\\\\\"type\\\\\\\\\\\\\\\": 2, \\\\\\\\\\\\\\\"details\\\\\\\\\\\\\\\": {\\\\\\\\\\\\\\\"selectedColumn\\\\\\\\\\\\\\\": \\\\\\\\\\\\\\\"diabetes\\\\\\\\\\\\\\\"}}, \\\\\\\\\\\\\\\"typeProperty\\\\\\\\\\\\\\\": 2}, {\\\\\\\\\\\\\\\"column\\\\\\\\\\\\\\\": {\\\\\\\\\\\\\\\"type\\\\\\\\\\\\\\\": 2, \\\\\\\\\\\\\\\"details\\\\\\\\\\\\\\\": {\\\\\\\\\\\\\\\"selectedColumn\\\\\\\\\\\\\\\": \\\\\\\\\\\\\\\"ejection_fraction\\\\\\\\\\\\\\\"}}, \\\\\\\\\\\\\\\"typeProperty\\\\\\\\\\\\\\\": 2}, {\\\\\\\\\\\\\\\"column\\\\\\\\\\\\\\\": {\\\\\\\\\\\\\\\"type\\\\\\\\\\\\\\\": 2, \\\\\\\\\\\\\\\"details\\\\\\\\\\\\\\\": {\\\\\\\\\\\\\\\"selectedColumn\\\\\\\\\\\\\\\": \\\\\\\\\\\\\\\"high_blood_pressure\\\\\\\\\\\\\\\"}}, \\\\\\\\\\\\\\\"typeProperty\\\\\\\\\\\\\\\": 2}, {\\\\\\\\\\\\\\\"column\\\\\\\\\\\\\\\": {\\\\\\\\\\\\\\\"type\\\\\\\\\\\\\\\": 2, \\\\\\\\\\\\\\\"details\\\\\\\\\\\\\\\": {\\\\\\\\\\\\\\\"selectedColumn\\\\\\\\\\\\\\\": \\\\\\\\\\\\\\\"platelets\\\\\\\\\\\\\\\"}}, \\\\\\\\\\\\\\\"typeProperty\\\\\\\\\\\\\\\": 3}, {\\\\\\\\\\\\\\\"column\\\\\\\\\\\\\\\": {\\\\\\\\\\\\\\\"type\\\\\\\\\\\\\\\": 2, \\\\\\\\\\\\\\\"details\\\\\\\\\\\\\\\": {\\\\\\\\\\\\\\\"selectedColumn\\\\\\\\\\\\\\\": \\\\\\\\\\\\\\\"serum_creatinine\\\\\\\\\\\\\\\"}}, \\\\\\\\\\\\\\\"typeProperty\\\\\\\\\\\\\\\": 3}, {\\\\\\\\\\\\\\\"column\\\\\\\\\\\\\\\": {\\\\\\\\\\\\\\\"type\\\\\\\\\\\\\\\": 2, \\\\\\\\\\\\\\\"details\\\\\\\\\\\\\\\": {\\\\\\\\\\\\\\\"selectedColumn\\\\\\\\\\\\\\\": \\\\\\\\\\\\\\\"serum_sodium\\\\\\\\\\\\\\\"}}, \\\\\\\\\\\\\\\"typeProperty\\\\\\\\\\\\\\\": 2}, {\\\\\\\\\\\\\\\"column\\\\\\\\\\\\\\\": {\\\\\\\\\\\\\\\"type\\\\\\\\\\\\\\\": 2, \\\\\\\\\\\\\\\"details\\\\\\\\\\\\\\\": {\\\\\\\\\\\\\\\"selectedColumn\\\\\\\\\\\\\\\": \\\\\\\\\\\\\\\"sex\\\\\\\\\\\\\\\"}}, \\\\\\\\\\\\\\\"typeProperty\\\\\\\\\\\\\\\": 2}, {\\\\\\\\\\\\\\\"column\\\\\\\\\\\\\\\": {\\\\\\\\\\\\\\\"type\\\\\\\\\\\\\\\": 2, \\\\\\\\\\\\\\\"details\\\\\\\\\\\\\\\": {\\\\\\\\\\\\\\\"selectedColumn\\\\\\\\\\\\\\\": \\\\\\\\\\\\\\\"smoking\\\\\\\\\\\\\\\"}}, \\\\\\\\\\\\\\\"typeProperty\\\\\\\\\\\\\\\": 2}, {\\\\\\\\\\\\\\\"column\\\\\\\\\\\\\\\": {\\\\\\\\\\\\\\\"type\\\\\\\\\\\\\\\": 2, \\\\\\\\\\\\\\\"details\\\\\\\\\\\\\\\": {\\\\\\\\\\\\\\\"selectedColumn\\\\\\\\\\\\\\\": \\\\\\\\\\\\\\\"time\\\\\\\\\\\\\\\"}}, \\\\\\\\\\\\\\\"typeProperty\\\\\\\\\\\\\\\": 2}, {\\\\\\\\\\\\\\\"column\\\\\\\\\\\\\\\": {\\\\\\\\\\\\\\\"type\\\\\\\\\\\\\\\": 2, \\\\\\\\\\\\\\\"details\\\\\\\\\\\\\\\": {\\\\\\\\\\\\\\\"selectedColumn\\\\\\\\\\\\\\\": \\\\\\\\\\\\\\\"DEATH_EVENT\\\\\\\\\\\\\\\"}}, \\\\\\\\\\\\\\\"typeProperty\\\\\\\\\\\\\\\": 2}]}, \\\\\\\\\\\\\\\"localData\\\\\\\\\\\\\\\": {}, \\\\\\\\\\\\\\\"isEnabled\\\\\\\\\\\\\\\": true, \\\\\\\\\\\\\\\"name\\\\\\\\\\\\\\\": null, \\\\\\\\\\\\\\\"annotation\\\\\\\\\\\\\\\": null}], \\\\\\\\\\\\\\\"inspectors\\\\\\\\\\\\\\\": [], \\\\\\\\\\\\\\\"meta\\\\\\\\\\\\\\\": {\\\\\\\\\\\\\\\"savedDatasetId\\\\\\\\\\\\\\\": \\\\\\\\\\\\\\\"40ef3347-dead-4a72-89e0-0beba1022f30\\\\\\\\\\\\\\\", \\\\\\\\\\\\\\\"datasetType\\\\\\\\\\\\\\\": \\\\\\\\\\\\\\\"tabular\\\\\\\\\\\\\\\", \\\\\\\\\\\\\\\"subscriptionId\\\\\\\\\\\\\\\": \\\\\\\\\\\\\\\"12d8a290-6d86-4923-bc31-637a3ee790ed\\\\\\\\\\\\\\\", \\\\\\\\\\\\\\\"workspaceId\\\\\\\\\\\\\\\": \\\\\\\\\\\\\\\"e7817f2c-b965-45bb-8c6a-425dec862409\\\\\\\\\\\\\\\", \\\\\\\\\\\\\\\"workspaceLocation\\\\\\\\\\\\\\\": \\\\\\\\\\\\\\\"eastus\\\\\\\\\\\\\\\"}}\\\\\\\", \\\\\\\"activities\\\\\\\": 0}\", \"EnableSubsampling\": \"False\", \"runTemplate\": \"AutoML\", \"azureml.runsource\": \"automl\", \"display_task_type\": \"classification\", \"dependencies_versions\": \"{\\\"azureml-widgets\\\": \\\"1.19.0\\\", \\\"azureml-train\\\": \\\"1.19.0\\\", \\\"azureml-train-restclients-hyperdrive\\\": \\\"1.19.0\\\", \\\"azureml-train-core\\\": \\\"1.19.0\\\", \\\"azureml-train-automl\\\": \\\"1.19.0\\\", \\\"azureml-train-automl-runtime\\\": \\\"1.19.0\\\", \\\"azureml-train-automl-client\\\": \\\"1.19.0\\\", \\\"azureml-tensorboard\\\": \\\"1.19.0\\\", \\\"azureml-telemetry\\\": \\\"1.19.0\\\", \\\"azureml-sdk\\\": \\\"1.19.0\\\", \\\"azureml-samples\\\": \\\"0+unknown\\\", \\\"azureml-pipeline\\\": \\\"1.19.0\\\", \\\"azureml-pipeline-steps\\\": \\\"1.19.0\\\", \\\"azureml-pipeline-core\\\": \\\"1.19.0\\\", \\\"azureml-opendatasets\\\": \\\"1.19.0\\\", \\\"azureml-model-management-sdk\\\": \\\"1.0.1b6.post1\\\", \\\"azureml-mlflow\\\": \\\"1.19.0\\\", \\\"azureml-interpret\\\": \\\"1.19.0\\\", \\\"azureml-explain-model\\\": \\\"1.19.0\\\", \\\"azureml-defaults\\\": \\\"1.19.0\\\", \\\"azureml-dataset-runtime\\\": \\\"1.19.0\\\", \\\"azureml-dataprep\\\": \\\"2.6.1\\\", \\\"azureml-dataprep-rslex\\\": \\\"1.4.0\\\", \\\"azureml-dataprep-native\\\": \\\"26.0.0\\\", \\\"azureml-datadrift\\\": \\\"1.19.0\\\", \\\"azureml-core\\\": \\\"1.19.0\\\", \\\"azureml-contrib-services\\\": \\\"1.19.0\\\", \\\"azureml-contrib-server\\\": \\\"1.19.0\\\", \\\"azureml-contrib-reinforcementlearning\\\": \\\"1.19.0\\\", \\\"azureml-contrib-pipeline-steps\\\": \\\"1.19.0\\\", \\\"azureml-contrib-notebook\\\": \\\"1.19.0\\\", \\\"azureml-contrib-interpret\\\": \\\"1.19.0\\\", \\\"azureml-contrib-gbdt\\\": \\\"1.19.0\\\", \\\"azureml-contrib-fairness\\\": \\\"1.19.0\\\", \\\"azureml-contrib-dataset\\\": \\\"1.19.0\\\", \\\"azureml-cli-common\\\": \\\"1.19.0\\\", \\\"azureml-automl-runtime\\\": \\\"1.19.0\\\", \\\"azureml-automl-core\\\": \\\"1.19.0\\\", \\\"azureml-accel-models\\\": \\\"1.19.0\\\"}\", \"_aml_system_scenario_identification\": \"Remote.Parent\", \"ClientType\": \"SDK\", \"environment_cpu_name\": \"AzureML-AutoML\", \"environment_cpu_label\": \"prod\", \"environment_gpu_name\": \"AzureML-AutoML-GPU\", \"environment_gpu_label\": \"prod\", \"root_attribution\": \"automl\", \"attribution\": \"AutoML\", \"Orchestrator\": \"AutoML\", \"CancelUri\": \"https://eastus.experiments.azureml.net/jasmine/v1.0/subscriptions/12d8a290-6d86-4923-bc31-637a3ee790ed/resourceGroups/udacity-rg/providers/Microsoft.MachineLearningServices/workspaces/udacity-ws/experimentids/b410de98-ae46-4d8b-88e0-f035b5cbd98f/cancel/AutoML_9c66d14c-e778-4e7e-ad2d-8a425cd3b51a\", \"ClientSdkVersion\": \"1.19.0\", \"snapshotId\": \"00000000-0000-0000-0000-000000000000\", \"SetupRunId\": \"AutoML_9c66d14c-e778-4e7e-ad2d-8a425cd3b51a_setup\", \"SetupRunContainerId\": \"dcid.AutoML_9c66d14c-e778-4e7e-ad2d-8a425cd3b51a_setup\", \"FeaturizationRunJsonPath\": \"featurizer_container.json\", \"FeaturizationRunId\": \"AutoML_9c66d14c-e778-4e7e-ad2d-8a425cd3b51a_featurize\", \"ProblemInfoJsonString\": \"{\\\"dataset_num_categorical\\\": 0, \\\"is_sparse\\\": false, \\\"subsampling\\\": false, \\\"dataset_classes\\\": 2, \\\"dataset_features\\\": 12, \\\"dataset_samples\\\": 299, \\\"single_frequency_class_detected\\\": false}\", \"ModelExplainRunId\": \"AutoML_9c66d14c-e778-4e7e-ad2d-8a425cd3b51a_ModelExplain\"}, \"tags\": {\"model_explain_run\": \"best_run\", \"_aml_system_azureml.automlComponent\": \"AutoML\", \"pipeline_id\": \"\", \"score\": \"\", \"predicted_cost\": \"\", \"fit_time\": \"\", \"training_percent\": \"\", \"iteration\": \"\", \"run_preprocessor\": \"\", \"run_algorithm\": \"\", \"dynamic_whitelisting_iterations\": \"<25>;<30>;<35>;\", \"automl_best_child_run_id\": \"AutoML_9c66d14c-e778-4e7e-ad2d-8a425cd3b51a_36\", \"model_explain_best_run_child_id\": \"AutoML_9c66d14c-e778-4e7e-ad2d-8a425cd3b51a_36\"}, \"end_time_utc\": \"2021-01-09T06:09:47.829127Z\", \"status\": \"Completed\", \"log_files\": {}, \"log_groups\": [], \"run_duration\": \"0:30:27\"}, \"child_runs\": [{\"run_id\": \"AutoML_9c66d14c-e778-4e7e-ad2d-8a425cd3b51a_0\", \"run_number\": 5, \"metric\": null, \"status\": \"Completed\", \"run_type\": \"azureml.scriptrun\", \"training_percent\": \"100\", \"start_time\": \"2021-01-09T05:49:36.961613Z\", \"end_time\": \"2021-01-09T05:50:37.29082Z\", \"created_time\": \"2021-01-09T05:47:21.061261Z\", \"created_time_dt\": \"2021-01-09T05:47:21.061261Z\", \"duration\": \"0:03:16\", \"iteration\": \"0\", \"goal\": \"accuracy_max\", \"run_name\": \"MaxAbsScaler, LightGBM\", \"run_properties\": \"copy=True\", \"primary_metric\": 0.80252525, \"best_metric\": 0.80252525}, {\"run_id\": \"AutoML_9c66d14c-e778-4e7e-ad2d-8a425cd3b51a_3\", \"run_number\": 6, \"metric\": null, \"status\": \"Completed\", \"run_type\": \"azureml.scriptrun\", \"training_percent\": \"100\", \"start_time\": \"2021-01-09T05:47:34.155511Z\", \"end_time\": \"2021-01-09T05:48:30.822601Z\", \"created_time\": \"2021-01-09T05:47:21.068526Z\", \"created_time_dt\": \"2021-01-09T05:47:21.068526Z\", \"duration\": \"0:01:09\", \"iteration\": \"3\", \"goal\": \"accuracy_max\", \"run_name\": \"MinMaxScaler, RandomForest\", \"run_properties\": \"copy=True, feature_range=(0, 1\", \"primary_metric\": 0.81936027, \"best_metric\": 0.81939394}, {\"run_id\": \"AutoML_9c66d14c-e778-4e7e-ad2d-8a425cd3b51a_1\", \"run_number\": 7, \"metric\": null, \"status\": \"Completed\", \"run_type\": \"azureml.scriptrun\", \"training_percent\": \"100\", \"start_time\": \"2021-01-09T05:48:33.770563Z\", \"end_time\": \"2021-01-09T05:49:33.71928Z\", \"created_time\": \"2021-01-09T05:47:21.072289Z\", \"created_time_dt\": \"2021-01-09T05:47:21.072289Z\", \"duration\": \"0:02:12\", \"iteration\": \"1\", \"goal\": \"accuracy_max\", \"run_name\": \"MaxAbsScaler, XGBoostClassifier\", \"run_properties\": \"copy=True\", \"primary_metric\": 0.81929293, \"best_metric\": 0.81929293}, {\"run_id\": \"AutoML_9c66d14c-e778-4e7e-ad2d-8a425cd3b51a_2\", \"run_number\": 8, \"metric\": null, \"status\": \"Completed\", \"run_type\": \"azureml.scriptrun\", \"training_percent\": \"100\", \"start_time\": \"2021-01-09T05:50:36.690151Z\", \"end_time\": \"2021-01-09T05:51:36.963949Z\", \"created_time\": \"2021-01-09T05:47:21.073845Z\", \"created_time_dt\": \"2021-01-09T05:47:21.073845Z\", \"duration\": \"0:04:15\", \"iteration\": \"2\", \"goal\": \"accuracy_max\", \"run_name\": \"MinMaxScaler, RandomForest\", \"run_properties\": \"copy=True, feature_range=(0, 1\", \"primary_metric\": 0.81939394, \"best_metric\": 0.81939394}, {\"run_id\": \"AutoML_9c66d14c-e778-4e7e-ad2d-8a425cd3b51a_4\", \"run_number\": 9, \"metric\": null, \"status\": \"Completed\", \"run_type\": \"azureml.scriptrun\", \"training_percent\": \"100\", \"start_time\": \"2021-01-09T05:51:19.071749Z\", \"end_time\": \"2021-01-09T05:53:31.517418Z\", \"created_time\": \"2021-01-09T05:48:33.824301Z\", \"created_time_dt\": \"2021-01-09T05:48:33.824301Z\", \"duration\": \"0:04:57\", \"iteration\": \"4\", \"goal\": \"accuracy_max\", \"run_name\": \"MinMaxScaler, RandomForest\", \"run_properties\": \"copy=True, feature_range=(0, 1\", \"primary_metric\": 0.84612795, \"best_metric\": 0.84612795}, {\"run_id\": \"AutoML_9c66d14c-e778-4e7e-ad2d-8a425cd3b51a_5\", \"run_number\": 10, \"metric\": null, \"status\": \"Completed\", \"run_type\": \"azureml.scriptrun\", \"training_percent\": \"100\", \"start_time\": \"2021-01-09T05:51:39.787543Z\", \"end_time\": \"2021-01-09T05:52:39.608781Z\", \"created_time\": \"2021-01-09T05:49:38.503372Z\", \"created_time_dt\": \"2021-01-09T05:49:38.503372Z\", \"duration\": \"0:03:01\", \"iteration\": \"5\", \"goal\": \"accuracy_max\", \"run_name\": \"RobustScaler, LightGBM\", \"run_properties\": \"copy=True, quantile_range=[25, 75], with_centering=False,\\n             with_scaling=True\", \"primary_metric\": 0.83936027, \"best_metric\": 0.84612795}, {\"run_id\": \"AutoML_9c66d14c-e778-4e7e-ad2d-8a425cd3b51a_6\", \"run_number\": 11, \"metric\": null, \"status\": \"Completed\", \"run_type\": \"azureml.scriptrun\", \"training_percent\": \"100\", \"start_time\": \"2021-01-09T05:52:41.042924Z\", \"end_time\": \"2021-01-09T05:53:34.887559Z\", \"created_time\": \"2021-01-09T05:50:40.446254Z\", \"created_time_dt\": \"2021-01-09T05:50:40.446254Z\", \"duration\": \"0:02:54\", \"iteration\": \"6\", \"goal\": \"accuracy_max\", \"run_name\": \"StandardScalerWrapper, XGBoostClassifier\", \"run_properties\": \"<azureml.automl.runtime.shared.model_wrappers.StandardScalerWrapper object at 0x7fe5fa82c668\", \"primary_metric\": 0.84276094, \"best_metric\": 0.84612795}, {\"run_id\": \"AutoML_9c66d14c-e778-4e7e-ad2d-8a425cd3b51a_7\", \"run_number\": 12, \"metric\": null, \"status\": \"Completed\", \"run_type\": \"azureml.scriptrun\", \"training_percent\": \"100\", \"start_time\": \"2021-01-09T05:53:33.992041Z\", \"end_time\": \"2021-01-09T05:54:24.237919Z\", \"created_time\": \"2021-01-09T05:51:38.944868Z\", \"created_time_dt\": \"2021-01-09T05:51:38.944868Z\", \"duration\": \"0:02:45\", \"iteration\": \"7\", \"goal\": \"accuracy_max\", \"run_name\": \"MinMaxScaler, SVM\", \"run_properties\": \"copy=True, feature_range=(0, 1\", \"primary_metric\": 0.7223569, \"best_metric\": 0.84612795}, {\"run_id\": \"AutoML_9c66d14c-e778-4e7e-ad2d-8a425cd3b51a_8\", \"run_number\": 13, \"metric\": null, \"status\": \"Completed\", \"run_type\": \"azureml.scriptrun\", \"training_percent\": \"100\", \"start_time\": \"2021-01-09T05:53:38.333401Z\", \"end_time\": \"2021-01-09T05:54:30.646342Z\", \"created_time\": \"2021-01-09T05:52:41.684116Z\", \"created_time_dt\": \"2021-01-09T05:52:41.684116Z\", \"duration\": \"0:01:48\", \"iteration\": \"8\", \"goal\": \"accuracy_max\", \"run_name\": \"SparseNormalizer, XGBoostClassifier\", \"run_properties\": \"<azureml.automl.runtime.shared.model_wrappers.SparseNormalizer object at 0x7f9870450438\", \"primary_metric\": 0.82279461, \"best_metric\": 0.84612795}, {\"run_id\": \"AutoML_9c66d14c-e778-4e7e-ad2d-8a425cd3b51a_9\", \"run_number\": 14, \"metric\": null, \"status\": \"Completed\", \"run_type\": \"azureml.scriptrun\", \"training_percent\": \"100\", \"start_time\": \"2021-01-09T05:54:22.762722Z\", \"end_time\": \"2021-01-09T05:55:49.143606Z\", \"created_time\": \"2021-01-09T05:53:33.293102Z\", \"created_time_dt\": \"2021-01-09T05:53:33.293102Z\", \"duration\": \"0:02:15\", \"iteration\": \"9\", \"goal\": \"accuracy_max\", \"run_name\": \"SparseNormalizer, XGBoostClassifier\", \"run_properties\": \"<azureml.automl.runtime.shared.model_wrappers.SparseNormalizer object at 0x7fd73a8ce550\", \"primary_metric\": 0.80602694, \"best_metric\": 0.84612795}, {\"run_id\": \"AutoML_9c66d14c-e778-4e7e-ad2d-8a425cd3b51a_10\", \"run_number\": 15, \"metric\": null, \"status\": \"Completed\", \"run_type\": \"azureml.scriptrun\", \"training_percent\": \"100\", \"start_time\": \"2021-01-09T05:54:33.200969Z\", \"end_time\": \"2021-01-09T05:55:45.976614Z\", \"created_time\": \"2021-01-09T05:53:37.292899Z\", \"created_time_dt\": \"2021-01-09T05:53:37.292899Z\", \"duration\": \"0:02:08\", \"iteration\": \"10\", \"goal\": \"accuracy_max\", \"run_name\": \"SparseNormalizer, XGBoostClassifier\", \"run_properties\": \"<azureml.automl.runtime.shared.model_wrappers.SparseNormalizer object at 0x7f30700e9080\", \"primary_metric\": 0.81279461, \"best_metric\": 0.84612795}, {\"run_id\": \"AutoML_9c66d14c-e778-4e7e-ad2d-8a425cd3b51a_11\", \"run_number\": 16, \"metric\": null, \"status\": \"Completed\", \"run_type\": \"azureml.scriptrun\", \"training_percent\": \"100\", \"start_time\": \"2021-01-09T05:55:50.405227Z\", \"end_time\": \"2021-01-09T05:56:48.996167Z\", \"created_time\": \"2021-01-09T05:54:26.03541Z\", \"created_time_dt\": \"2021-01-09T05:54:26.03541Z\", \"duration\": \"0:02:22\", \"iteration\": \"11\", \"goal\": \"accuracy_max\", \"run_name\": \"MaxAbsScaler, GradientBoosting\", \"run_properties\": \"copy=True\", \"primary_metric\": 0.83272727, \"best_metric\": 0.84612795}, {\"run_id\": \"AutoML_9c66d14c-e778-4e7e-ad2d-8a425cd3b51a_12\", \"run_number\": 17, \"metric\": null, \"status\": \"Completed\", \"run_type\": \"azureml.scriptrun\", \"training_percent\": \"100\", \"start_time\": \"2021-01-09T05:55:50.344539Z\", \"end_time\": \"2021-01-09T05:56:48.418615Z\", \"created_time\": \"2021-01-09T05:54:44.235236Z\", \"created_time_dt\": \"2021-01-09T05:54:44.235236Z\", \"duration\": \"0:02:04\", \"iteration\": \"12\", \"goal\": \"accuracy_max\", \"run_name\": \"SparseNormalizer, LightGBM\", \"run_properties\": \"<azureml.automl.runtime.shared.model_wrappers.SparseNormalizer object at 0x7f5eac27f5c0\", \"primary_metric\": 0.81259259, \"best_metric\": 0.84612795}, {\"run_id\": \"AutoML_9c66d14c-e778-4e7e-ad2d-8a425cd3b51a_13\", \"run_number\": 18, \"metric\": null, \"status\": \"Completed\", \"run_type\": \"azureml.scriptrun\", \"training_percent\": \"100\", \"start_time\": \"2021-01-09T05:56:52.233676Z\", \"end_time\": \"2021-01-09T05:57:55.603843Z\", \"created_time\": \"2021-01-09T05:55:47.742594Z\", \"created_time_dt\": \"2021-01-09T05:55:47.742594Z\", \"duration\": \"0:02:07\", \"iteration\": \"13\", \"goal\": \"accuracy_max\", \"run_name\": \"MaxAbsScaler, ExtremeRandomTrees\", \"run_properties\": \"copy=True\", \"primary_metric\": 0.82276094, \"best_metric\": 0.84612795}, {\"run_id\": \"AutoML_9c66d14c-e778-4e7e-ad2d-8a425cd3b51a_14\", \"run_number\": 19, \"metric\": null, \"status\": \"Completed\", \"run_type\": \"azureml.scriptrun\", \"training_percent\": \"100\", \"start_time\": \"2021-01-09T05:56:51.62109Z\", \"end_time\": \"2021-01-09T05:57:46.509661Z\", \"created_time\": \"2021-01-09T05:55:52.284186Z\", \"created_time_dt\": \"2021-01-09T05:55:52.284186Z\", \"duration\": \"0:01:54\", \"iteration\": \"14\", \"goal\": \"accuracy_max\", \"run_name\": \"MaxAbsScaler, LightGBM\", \"run_properties\": \"copy=True\", \"primary_metric\": 0.79925926, \"best_metric\": 0.84612795}, {\"run_id\": \"AutoML_9c66d14c-e778-4e7e-ad2d-8a425cd3b51a_15\", \"run_number\": 20, \"metric\": null, \"status\": \"Completed\", \"run_type\": \"azureml.scriptrun\", \"training_percent\": \"100\", \"start_time\": \"2021-01-09T05:57:48.205443Z\", \"end_time\": \"2021-01-09T05:58:45.500819Z\", \"created_time\": \"2021-01-09T05:56:50.173044Z\", \"created_time_dt\": \"2021-01-09T05:56:50.173044Z\", \"duration\": \"0:01:55\", \"iteration\": \"15\", \"goal\": \"accuracy_max\", \"run_name\": \"StandardScalerWrapper, RandomForest\", \"run_properties\": \"<azureml.automl.runtime.shared.model_wrappers.StandardScalerWrapper object at 0x7f0c917d6128\", \"primary_metric\": 0.81609428, \"best_metric\": 0.84612795}, {\"run_id\": \"AutoML_9c66d14c-e778-4e7e-ad2d-8a425cd3b51a_16\", \"run_number\": 21, \"metric\": null, \"status\": \"Completed\", \"run_type\": \"azureml.scriptrun\", \"training_percent\": \"100\", \"start_time\": \"2021-01-09T05:57:59.548431Z\", \"end_time\": \"2021-01-09T05:59:05.184925Z\", \"created_time\": \"2021-01-09T05:56:54.332783Z\", \"created_time_dt\": \"2021-01-09T05:56:54.332783Z\", \"duration\": \"0:02:10\", \"iteration\": \"16\", \"goal\": \"accuracy_max\", \"run_name\": \"MaxAbsScaler, LightGBM\", \"run_properties\": \"copy=True\", \"primary_metric\": 0.79925926, \"best_metric\": 0.84612795}, {\"run_id\": \"AutoML_9c66d14c-e778-4e7e-ad2d-8a425cd3b51a_17\", \"run_number\": 22, \"metric\": null, \"status\": \"Completed\", \"run_type\": \"azureml.scriptrun\", \"training_percent\": \"100\", \"start_time\": \"2021-01-09T05:58:46.070202Z\", \"end_time\": \"2021-01-09T06:00:42.801631Z\", \"created_time\": \"2021-01-09T05:57:48.432415Z\", \"created_time_dt\": \"2021-01-09T05:57:48.432415Z\", \"duration\": \"0:02:54\", \"iteration\": \"17\", \"goal\": \"accuracy_max\", \"run_name\": \"SparseNormalizer, XGBoostClassifier\", \"run_properties\": \"<azureml.automl.runtime.shared.model_wrappers.SparseNormalizer object at 0x7f201d1005c0\", \"primary_metric\": 0.80939394, \"best_metric\": 0.84612795}, {\"run_id\": \"AutoML_9c66d14c-e778-4e7e-ad2d-8a425cd3b51a_18\", \"run_number\": 23, \"metric\": null, \"status\": \"Completed\", \"run_type\": \"azureml.scriptrun\", \"training_percent\": \"100\", \"start_time\": \"2021-01-09T05:59:11.966563Z\", \"end_time\": \"2021-01-09T06:00:05.377963Z\", \"created_time\": \"2021-01-09T05:57:58.314802Z\", \"created_time_dt\": \"2021-01-09T05:57:58.314802Z\", \"duration\": \"0:02:07\", \"iteration\": \"18\", \"goal\": \"accuracy_max\", \"run_name\": \"StandardScalerWrapper, XGBoostClassifier\", \"run_properties\": \"<azureml.automl.runtime.shared.model_wrappers.StandardScalerWrapper object at 0x7f46860ae320\", \"primary_metric\": 0.83606061, \"best_metric\": 0.84612795}, {\"run_id\": \"AutoML_9c66d14c-e778-4e7e-ad2d-8a425cd3b51a_19\", \"run_number\": 24, \"metric\": null, \"status\": \"Completed\", \"run_type\": \"azureml.scriptrun\", \"training_percent\": \"100\", \"start_time\": \"2021-01-09T06:00:06.462478Z\", \"end_time\": \"2021-01-09T06:01:10.012332Z\", \"created_time\": \"2021-01-09T05:58:48.212715Z\", \"created_time_dt\": \"2021-01-09T05:58:48.212715Z\", \"duration\": \"0:02:21\", \"iteration\": \"19\", \"goal\": \"accuracy_max\", \"run_name\": \"RobustScaler, RandomForest\", \"run_properties\": \"copy=True, quantile_range=[25, 75], with_centering=True,\\n             with_scaling=True\", \"primary_metric\": 0.82592593, \"best_metric\": 0.84612795}, {\"run_id\": \"AutoML_9c66d14c-e778-4e7e-ad2d-8a425cd3b51a_20\", \"run_number\": 25, \"metric\": null, \"status\": \"Completed\", \"run_type\": \"azureml.scriptrun\", \"training_percent\": \"100\", \"start_time\": \"2021-01-09T06:00:44.809211Z\", \"end_time\": \"2021-01-09T06:01:36.587929Z\", \"created_time\": \"2021-01-09T05:59:07.29218Z\", \"created_time_dt\": \"2021-01-09T05:59:07.29218Z\", \"duration\": \"0:02:29\", \"iteration\": \"20\", \"goal\": \"accuracy_max\", \"run_name\": \"SparseNormalizer, GradientBoosting\", \"run_properties\": \"<azureml.automl.runtime.shared.model_wrappers.SparseNormalizer object at 0x7f3268341c88\", \"primary_metric\": 0.77939394, \"best_metric\": 0.84612795}, {\"run_id\": \"AutoML_9c66d14c-e778-4e7e-ad2d-8a425cd3b51a_21\", \"run_number\": 26, \"metric\": null, \"status\": \"Completed\", \"run_type\": \"azureml.scriptrun\", \"training_percent\": \"100\", \"start_time\": \"2021-01-09T06:01:11.826586Z\", \"end_time\": \"2021-01-09T06:02:12.203185Z\", \"created_time\": \"2021-01-09T06:00:07.883353Z\", \"created_time_dt\": \"2021-01-09T06:00:07.883353Z\", \"duration\": \"0:02:04\", \"iteration\": \"21\", \"goal\": \"accuracy_max\", \"run_name\": \"SparseNormalizer, XGBoostClassifier\", \"run_properties\": \"<azureml.automl.runtime.shared.model_wrappers.SparseNormalizer object at 0x7f624e13bcf8\", \"primary_metric\": 0.81606061, \"best_metric\": 0.84612795}, {\"run_id\": \"AutoML_9c66d14c-e778-4e7e-ad2d-8a425cd3b51a_22\", \"run_number\": 27, \"metric\": null, \"status\": \"Completed\", \"run_type\": \"azureml.scriptrun\", \"training_percent\": \"100\", \"start_time\": \"2021-01-09T06:01:39.96164Z\", \"end_time\": \"2021-01-09T06:02:28.662798Z\", \"created_time\": \"2021-01-09T06:00:44.700936Z\", \"created_time_dt\": \"2021-01-09T06:00:44.700936Z\", \"duration\": \"0:01:43\", \"iteration\": \"22\", \"goal\": \"accuracy_max\", \"run_name\": \"StandardScalerWrapper, LightGBM\", \"run_properties\": \"<azureml.automl.runtime.shared.model_wrappers.StandardScalerWrapper object at 0x7fdbddd243c8\", \"primary_metric\": 0.72242424, \"best_metric\": 0.84612795}, {\"run_id\": \"AutoML_9c66d14c-e778-4e7e-ad2d-8a425cd3b51a_23\", \"run_number\": 28, \"metric\": null, \"status\": \"Completed\", \"run_type\": \"azureml.scriptrun\", \"training_percent\": \"100\", \"start_time\": \"2021-01-09T06:02:16.990374Z\", \"end_time\": \"2021-01-09T06:03:18.681939Z\", \"created_time\": \"2021-01-09T06:01:12.036735Z\", \"created_time_dt\": \"2021-01-09T06:01:12.036735Z\", \"duration\": \"0:02:06\", \"iteration\": \"23\", \"goal\": \"accuracy_max\", \"run_name\": \"MaxAbsScaler, RandomForest\", \"run_properties\": \"copy=True\", \"primary_metric\": 0.80602694, \"best_metric\": 0.84612795}, {\"run_id\": \"AutoML_9c66d14c-e778-4e7e-ad2d-8a425cd3b51a_24\", \"run_number\": 29, \"metric\": null, \"status\": \"Completed\", \"run_type\": \"azureml.scriptrun\", \"training_percent\": \"100\", \"start_time\": \"2021-01-09T06:02:31.355072Z\", \"end_time\": \"2021-01-09T06:03:25.663963Z\", \"created_time\": \"2021-01-09T06:01:38.423714Z\", \"created_time_dt\": \"2021-01-09T06:01:38.423714Z\", \"duration\": \"0:01:47\", \"iteration\": \"24\", \"goal\": \"accuracy_max\", \"run_name\": \"TruncatedSVDWrapper, XGBoostClassifier\", \"run_properties\": \"n_components=0.6036842105263158, random_state=None\", \"primary_metric\": 0.75569024, \"best_metric\": 0.84612795}, {\"run_id\": \"AutoML_9c66d14c-e778-4e7e-ad2d-8a425cd3b51a_25\", \"run_number\": 30, \"metric\": null, \"status\": \"Completed\", \"run_type\": \"azureml.scriptrun\", \"training_percent\": \"100\", \"start_time\": \"2021-01-09T06:03:30.901173Z\", \"end_time\": \"2021-01-09T06:04:21.741015Z\", \"created_time\": \"2021-01-09T06:02:14.94784Z\", \"created_time_dt\": \"2021-01-09T06:02:14.94784Z\", \"duration\": \"0:02:06\", \"iteration\": \"25\", \"goal\": \"accuracy_max\", \"run_name\": \"StandardScalerWrapper, RandomForest\", \"run_properties\": \"<azureml.automl.runtime.shared.model_wrappers.StandardScalerWrapper object at 0x7f890f175da0\", \"primary_metric\": 0.74585859, \"best_metric\": 0.84612795}, {\"run_id\": \"AutoML_9c66d14c-e778-4e7e-ad2d-8a425cd3b51a_26\", \"run_number\": 31, \"metric\": null, \"status\": \"Completed\", \"run_type\": \"azureml.scriptrun\", \"training_percent\": \"100\", \"start_time\": \"2021-01-09T06:03:20.900496Z\", \"end_time\": \"2021-01-09T06:04:13.090216Z\", \"created_time\": \"2021-01-09T06:02:30.761595Z\", \"created_time_dt\": \"2021-01-09T06:02:30.761595Z\", \"duration\": \"0:01:42\", \"iteration\": \"26\", \"goal\": \"accuracy_max\", \"run_name\": \"MinMaxScaler, LightGBM\", \"run_properties\": \"copy=True, feature_range=(0, 1\", \"primary_metric\": 0.8059596, \"best_metric\": 0.84612795}, {\"run_id\": \"AutoML_9c66d14c-e778-4e7e-ad2d-8a425cd3b51a_27\", \"run_number\": 32, \"metric\": null, \"status\": \"Completed\", \"run_type\": \"azureml.scriptrun\", \"training_percent\": \"100\", \"start_time\": \"2021-01-09T06:04:18.92439Z\", \"end_time\": \"2021-01-09T06:05:23.65044Z\", \"created_time\": \"2021-01-09T06:03:20.620101Z\", \"created_time_dt\": \"2021-01-09T06:03:20.620101Z\", \"duration\": \"0:02:03\", \"iteration\": \"27\", \"goal\": \"accuracy_max\", \"run_name\": \"MaxAbsScaler, ExtremeRandomTrees\", \"run_properties\": \"copy=True\", \"primary_metric\": 0.80249158, \"best_metric\": 0.84612795}, {\"run_id\": \"AutoML_9c66d14c-e778-4e7e-ad2d-8a425cd3b51a_28\", \"run_number\": 33, \"metric\": null, \"status\": \"Completed\", \"run_type\": \"azureml.scriptrun\", \"training_percent\": \"100\", \"start_time\": \"2021-01-09T06:04:25.91402Z\", \"end_time\": \"2021-01-09T06:05:26.618292Z\", \"created_time\": \"2021-01-09T06:03:27.470969Z\", \"created_time_dt\": \"2021-01-09T06:03:27.470969Z\", \"duration\": \"0:01:59\", \"iteration\": \"28\", \"goal\": \"accuracy_max\", \"run_name\": \"StandardScalerWrapper, ExtremeRandomTrees\", \"run_properties\": \"<azureml.automl.runtime.shared.model_wrappers.StandardScalerWrapper object at 0x7f9d39d82358\", \"primary_metric\": 0.79912458, \"best_metric\": 0.84612795}, {\"run_id\": \"AutoML_9c66d14c-e778-4e7e-ad2d-8a425cd3b51a_29\", \"run_number\": 34, \"metric\": null, \"status\": \"Completed\", \"run_type\": \"azureml.scriptrun\", \"training_percent\": \"100\", \"start_time\": \"2021-01-09T06:05:27.336162Z\", \"end_time\": \"2021-01-09T06:06:24.438544Z\", \"created_time\": \"2021-01-09T06:04:15.022417Z\", \"created_time_dt\": \"2021-01-09T06:04:15.022417Z\", \"duration\": \"0:02:09\", \"iteration\": \"29\", \"goal\": \"accuracy_max\", \"run_name\": \"MaxAbsScaler, ExtremeRandomTrees\", \"run_properties\": \"copy=True\", \"primary_metric\": 0.75569024, \"best_metric\": 0.84612795}, {\"run_id\": \"AutoML_9c66d14c-e778-4e7e-ad2d-8a425cd3b51a_30\", \"run_number\": 35, \"metric\": null, \"status\": \"Completed\", \"run_type\": \"azureml.scriptrun\", \"training_percent\": \"100\", \"start_time\": \"2021-01-09T06:05:27.642589Z\", \"end_time\": \"2021-01-09T06:06:26.99884Z\", \"created_time\": \"2021-01-09T06:04:25.172063Z\", \"created_time_dt\": \"2021-01-09T06:04:25.172063Z\", \"duration\": \"0:02:01\", \"iteration\": \"30\", \"goal\": \"accuracy_max\", \"run_name\": \"SparseNormalizer, RandomForest\", \"run_properties\": \"<azureml.automl.runtime.shared.model_wrappers.SparseNormalizer object at 0x7f871bf2feb8\", \"primary_metric\": 0.65191919, \"best_metric\": 0.84612795}, {\"run_id\": \"AutoML_9c66d14c-e778-4e7e-ad2d-8a425cd3b51a_31\", \"run_number\": 36, \"metric\": null, \"status\": \"Completed\", \"run_type\": \"azureml.scriptrun\", \"training_percent\": \"100\", \"start_time\": \"2021-01-09T06:06:26.161477Z\", \"end_time\": \"2021-01-09T06:07:37.74816Z\", \"created_time\": \"2021-01-09T06:05:27.457808Z\", \"created_time_dt\": \"2021-01-09T06:05:27.457808Z\", \"duration\": \"0:02:10\", \"iteration\": \"31\", \"goal\": \"accuracy_max\", \"run_name\": \"MaxAbsScaler, LightGBM\", \"run_properties\": \"copy=True\", \"primary_metric\": 0.83606061, \"best_metric\": 0.84612795}, {\"run_id\": \"AutoML_9c66d14c-e778-4e7e-ad2d-8a425cd3b51a_32\", \"run_number\": 37, \"metric\": null, \"status\": \"Completed\", \"run_type\": \"azureml.scriptrun\", \"training_percent\": \"100\", \"start_time\": \"2021-01-09T06:06:28.307396Z\", \"end_time\": \"2021-01-09T06:07:21.000713Z\", \"created_time\": \"2021-01-09T06:05:31.451173Z\", \"created_time_dt\": \"2021-01-09T06:05:31.451173Z\", \"duration\": \"0:01:49\", \"iteration\": \"32\", \"goal\": \"accuracy_max\", \"run_name\": \"StandardScalerWrapper, LightGBM\", \"run_properties\": \"<azureml.automl.runtime.shared.model_wrappers.StandardScalerWrapper object at 0x7efbcc2fb0f0\", \"primary_metric\": 0.83272727, \"best_metric\": 0.84612795}, {\"run_id\": \"AutoML_9c66d14c-e778-4e7e-ad2d-8a425cd3b51a_33\", \"run_number\": 38, \"metric\": null, \"status\": \"Canceled\", \"run_type\": \"azureml.scriptrun\", \"training_percent\": \"100\", \"start_time\": \"2021-01-09T06:07:24.549347Z\", \"end_time\": \"2021-01-09T06:07:48.05699Z\", \"created_time\": \"2021-01-09T06:06:29.350489Z\", \"created_time_dt\": \"2021-01-09T06:06:29.350489Z\", \"duration\": \"0:01:18\", \"iteration\": \"33\", \"goal\": null, \"run_name\": \"Canceled\", \"run_properties\": null}, {\"run_id\": \"AutoML_9c66d14c-e778-4e7e-ad2d-8a425cd3b51a_34\", \"run_number\": 39, \"metric\": null, \"status\": \"Canceled\", \"run_type\": \"azureml.scriptrun\", \"training_percent\": \"100\", \"start_time\": \"2021-01-09T06:06:38.445095Z\", \"end_time\": \"2021-01-09T06:07:48.020369Z\", \"created_time\": \"2021-01-09T06:06:38.445095Z\", \"created_time_dt\": \"2021-01-09T06:06:38.445095Z\", \"duration\": \"0:01:09\", \"iteration\": \"34\", \"goal\": null, \"run_name\": \"Canceled\", \"run_properties\": null}, {\"run_id\": \"AutoML_9c66d14c-e778-4e7e-ad2d-8a425cd3b51a_35\", \"run_number\": 40, \"metric\": null, \"status\": \"Canceled\", \"run_type\": \"azureml.scriptrun\", \"training_percent\": \"100\", \"start_time\": \"2021-01-09T06:07:26.752552Z\", \"end_time\": \"2021-01-09T06:07:48.754069Z\", \"created_time\": \"2021-01-09T06:07:26.752552Z\", \"created_time_dt\": \"2021-01-09T06:07:26.752552Z\", \"duration\": \"0:00:22\", \"iteration\": \"35\", \"goal\": null, \"run_name\": \"Canceled\", \"run_properties\": null}, {\"run_id\": \"AutoML_9c66d14c-e778-4e7e-ad2d-8a425cd3b51a_37\", \"run_number\": 41, \"metric\": null, \"status\": \"Completed\", \"run_type\": \"azureml.scriptrun\", \"training_percent\": \"100\", \"start_time\": \"2021-01-09T06:08:08.132306Z\", \"end_time\": \"2021-01-09T06:09:36.980035Z\", \"created_time\": \"2021-01-09T06:07:52.054035Z\", \"created_time_dt\": \"2021-01-09T06:07:52.054035Z\", \"duration\": \"0:01:44\", \"iteration\": \"37\", \"goal\": \"accuracy_max\", \"run_name\": \"StackEnsemble\", \"run_properties\": \"base_learners=[('4',\\n                                        Pipeline(memory=None,\\n                                                 steps=[('minmaxscaler',\\n                                                         MinMaxScaler(copy=True,\\n                                                                      feature_range=(0,\\n                                                                                     1\", \"primary_metric\": 0.8293266, \"best_metric\": 0.86626263}, {\"run_id\": \"AutoML_9c66d14c-e778-4e7e-ad2d-8a425cd3b51a_36\", \"run_number\": 42, \"metric\": null, \"status\": \"Completed\", \"run_type\": \"azureml.scriptrun\", \"training_percent\": \"100\", \"start_time\": \"2021-01-09T06:08:05.952512Z\", \"end_time\": \"2021-01-09T06:09:29.097156Z\", \"created_time\": \"2021-01-09T06:07:52.386915Z\", \"created_time_dt\": \"2021-01-09T06:07:52.386915Z\", \"duration\": \"0:01:36\", \"iteration\": \"36\", \"goal\": \"accuracy_max\", \"run_name\": \"VotingEnsemble\", \"run_properties\": \"classification_labels=None,\\n                              estimators=[('4',\\n                                           Pipeline(memory=None,\\n                                                    steps=[('minmaxscaler',\\n                                                            MinMaxScaler(copy=True,\\n                                                                         feature_range=(0,\\n                                                                                        1\", \"primary_metric\": 0.86626263, \"best_metric\": 0.86626263}], \"children_metrics\": {\"categories\": [0], \"series\": {\"recall_score_micro\": [{\"categories\": [\"0\", \"1\", \"2\", \"3\", \"4\", \"5\", \"6\", \"7\", \"8\", \"9\", \"10\", \"11\", \"12\", \"13\", \"14\", \"15\", \"16\", \"17\", \"18\", \"19\", \"20\", \"21\", \"22\", \"23\", \"24\", \"25\", \"26\", \"27\", \"28\", \"29\", \"30\", \"31\", \"32\", \"36\", \"37\"], \"mode\": \"markers\", \"name\": \"recall_score_micro\", \"stepped\": false, \"type\": \"scatter\", \"data\": [0.8025252525252524, 0.8192929292929293, 0.8193939393939395, 0.8193602693602693, 0.8461279461279462, 0.8393602693602693, 0.8427609427609428, 0.7223569023569024, 0.8227946127946127, 0.806026936026936, 0.8127946127946127, 0.8327272727272729, 0.8125925925925926, 0.8227609427609428, 0.7992592592592592, 0.8160942760942761, 0.7992592592592592, 0.8093939393939394, 0.8360606060606061, 0.825925925925926, 0.7793939393939394, 0.816060606060606, 0.7224242424242423, 0.806026936026936, 0.7556902356902357, 0.7458585858585858, 0.805959595959596, 0.8024915824915825, 0.7991245791245792, 0.7556902356902357, 0.6519191919191919, 0.8360606060606061, 0.8327272727272729, 0.8662626262626264, 0.8293265993265994]}, {\"categories\": [\"0\", \"1\", \"2\", \"3\", \"4\", \"5\", \"6\", \"7\", \"8\", \"9\", \"10\", \"11\", \"12\", \"13\", \"14\", \"15\", \"16\", \"17\", \"18\", \"19\", \"20\", \"21\", \"22\", \"23\", \"24\", \"25\", \"26\", \"27\", \"28\", \"29\", \"30\", \"31\", \"32\", \"36\", \"37\"], \"mode\": \"lines\", \"name\": \"recall_score_micro_max\", \"stepped\": true, \"type\": \"scatter\", \"data\": [0.8025252525252524, 0.8192929292929293, 0.8193939393939395, 0.8193939393939395, 0.8461279461279462, 0.8461279461279462, 0.8461279461279462, 0.8461279461279462, 0.8461279461279462, 0.8461279461279462, 0.8461279461279462, 0.8461279461279462, 0.8461279461279462, 0.8461279461279462, 0.8461279461279462, 0.8461279461279462, 0.8461279461279462, 0.8461279461279462, 0.8461279461279462, 0.8461279461279462, 0.8461279461279462, 0.8461279461279462, 0.8461279461279462, 0.8461279461279462, 0.8461279461279462, 0.8461279461279462, 0.8461279461279462, 0.8461279461279462, 0.8461279461279462, 0.8461279461279462, 0.8461279461279462, 0.8461279461279462, 0.8461279461279462, 0.8662626262626264, 0.8662626262626264]}], \"recall_score_weighted\": [{\"categories\": [\"0\", \"1\", \"2\", \"3\", \"4\", \"5\", \"6\", \"7\", \"8\", \"9\", \"10\", \"11\", \"12\", \"13\", \"14\", \"15\", \"16\", \"17\", \"18\", \"19\", \"20\", \"21\", \"22\", \"23\", \"24\", \"25\", \"26\", \"27\", \"28\", \"29\", \"30\", \"31\", \"32\", \"36\", \"37\"], \"mode\": \"markers\", \"name\": \"recall_score_weighted\", \"stepped\": false, \"type\": \"scatter\", \"data\": [0.8025252525252524, 0.8192929292929293, 0.8193939393939395, 0.8193602693602693, 0.8461279461279462, 0.8393602693602693, 0.8427609427609428, 0.7223569023569024, 0.8227946127946127, 0.806026936026936, 0.8127946127946127, 0.8327272727272729, 0.8125925925925926, 0.8227609427609428, 0.7992592592592592, 0.8160942760942761, 0.7992592592592592, 0.8093939393939394, 0.8360606060606061, 0.825925925925926, 0.7793939393939394, 0.816060606060606, 0.7224242424242423, 0.806026936026936, 0.7556902356902357, 0.7458585858585858, 0.805959595959596, 0.8024915824915825, 0.7991245791245792, 0.7556902356902357, 0.6519191919191919, 0.8360606060606061, 0.8327272727272729, 0.8662626262626264, 0.8293265993265994]}, {\"categories\": [\"0\", \"1\", \"2\", \"3\", \"4\", \"5\", \"6\", \"7\", \"8\", \"9\", \"10\", \"11\", \"12\", \"13\", \"14\", \"15\", \"16\", \"17\", \"18\", \"19\", \"20\", \"21\", \"22\", \"23\", \"24\", \"25\", \"26\", \"27\", \"28\", \"29\", \"30\", \"31\", \"32\", \"36\", \"37\"], \"mode\": \"lines\", \"name\": \"recall_score_weighted_max\", \"stepped\": true, \"type\": \"scatter\", \"data\": [0.8025252525252524, 0.8192929292929293, 0.8193939393939395, 0.8193939393939395, 0.8461279461279462, 0.8461279461279462, 0.8461279461279462, 0.8461279461279462, 0.8461279461279462, 0.8461279461279462, 0.8461279461279462, 0.8461279461279462, 0.8461279461279462, 0.8461279461279462, 0.8461279461279462, 0.8461279461279462, 0.8461279461279462, 0.8461279461279462, 0.8461279461279462, 0.8461279461279462, 0.8461279461279462, 0.8461279461279462, 0.8461279461279462, 0.8461279461279462, 0.8461279461279462, 0.8461279461279462, 0.8461279461279462, 0.8461279461279462, 0.8461279461279462, 0.8461279461279462, 0.8461279461279462, 0.8461279461279462, 0.8461279461279462, 0.8662626262626264, 0.8662626262626264]}], \"precision_score_macro\": [{\"categories\": [\"0\", \"1\", \"2\", \"3\", \"4\", \"5\", \"6\", \"7\", \"8\", \"9\", \"10\", \"11\", \"12\", \"13\", \"14\", \"15\", \"16\", \"17\", \"18\", \"19\", \"20\", \"21\", \"22\", \"23\", \"24\", \"25\", \"26\", \"27\", \"28\", \"29\", \"30\", \"31\", \"32\", \"36\", \"37\"], \"mode\": \"markers\", \"name\": \"precision_score_macro\", \"stepped\": false, \"type\": \"scatter\", \"data\": [0.7842311567478019, 0.7983113869170717, 0.8061298550874127, 0.8158182481879259, 0.8347538455434874, 0.8275034713602931, 0.837144126274561, 0.689593735372133, 0.8173020863930501, 0.7897559616561498, 0.7986674799856815, 0.8187763523956907, 0.7934840354931678, 0.8312195168920314, 0.8044765101816838, 0.8035248585719844, 0.8064114504322971, 0.7911924049855085, 0.8348475760756463, 0.814767632632289, 0.761355691362219, 0.8012361483177445, 0.7450830364440049, 0.8102788108315705, 0.7233777270421106, 0.7875851000851002, 0.8187888939074576, 0.7781181587254759, 0.7782320106962665, 0.7231989540987843, 0.6400983515390295, 0.827741492115306, 0.819379813477093, 0.8696531824168955, 0.8207145879014975]}, {\"categories\": [\"0\", \"1\", \"2\", \"3\", \"4\", \"5\", \"6\", \"7\", \"8\", \"9\", \"10\", \"11\", \"12\", \"13\", \"14\", \"15\", \"16\", \"17\", \"18\", \"19\", \"20\", \"21\", \"22\", \"23\", \"24\", \"25\", \"26\", \"27\", \"28\", \"29\", \"30\", \"31\", \"32\", \"36\", \"37\"], \"mode\": \"lines\", \"name\": \"precision_score_macro_max\", \"stepped\": true, \"type\": \"scatter\", \"data\": [0.7842311567478019, 0.7983113869170717, 0.8061298550874127, 0.8158182481879259, 0.8347538455434874, 0.8347538455434874, 0.837144126274561, 0.837144126274561, 0.837144126274561, 0.837144126274561, 0.837144126274561, 0.837144126274561, 0.837144126274561, 0.837144126274561, 0.837144126274561, 0.837144126274561, 0.837144126274561, 0.837144126274561, 0.837144126274561, 0.837144126274561, 0.837144126274561, 0.837144126274561, 0.837144126274561, 0.837144126274561, 0.837144126274561, 0.837144126274561, 0.837144126274561, 0.837144126274561, 0.837144126274561, 0.837144126274561, 0.837144126274561, 0.837144126274561, 0.837144126274561, 0.8696531824168955, 0.8696531824168955]}], \"precision_score_micro\": [{\"categories\": [\"0\", \"1\", \"2\", \"3\", \"4\", \"5\", \"6\", \"7\", \"8\", \"9\", \"10\", \"11\", \"12\", \"13\", \"14\", \"15\", \"16\", \"17\", \"18\", \"19\", \"20\", \"21\", \"22\", \"23\", \"24\", \"25\", \"26\", \"27\", \"28\", \"29\", \"30\", \"31\", \"32\", \"36\", \"37\"], \"mode\": \"markers\", \"name\": \"precision_score_micro\", \"stepped\": false, \"type\": \"scatter\", \"data\": [0.8025252525252524, 0.8192929292929293, 0.8193939393939395, 0.8193602693602693, 0.8461279461279462, 0.8393602693602693, 0.8427609427609428, 0.7223569023569024, 0.8227946127946127, 0.806026936026936, 0.8127946127946127, 0.8327272727272729, 0.8125925925925926, 0.8227609427609428, 0.7992592592592592, 0.8160942760942761, 0.7992592592592592, 0.8093939393939394, 0.8360606060606061, 0.825925925925926, 0.7793939393939394, 0.816060606060606, 0.7224242424242423, 0.806026936026936, 0.7556902356902357, 0.7458585858585858, 0.805959595959596, 0.8024915824915825, 0.7991245791245792, 0.7556902356902357, 0.6519191919191919, 0.8360606060606061, 0.8327272727272729, 0.8662626262626264, 0.8293265993265994]}, {\"categories\": [\"0\", \"1\", \"2\", \"3\", \"4\", \"5\", \"6\", \"7\", \"8\", \"9\", \"10\", \"11\", \"12\", \"13\", \"14\", \"15\", \"16\", \"17\", \"18\", \"19\", \"20\", \"21\", \"22\", \"23\", \"24\", \"25\", \"26\", \"27\", \"28\", \"29\", \"30\", \"31\", \"32\", \"36\", \"37\"], \"mode\": \"lines\", \"name\": \"precision_score_micro_max\", \"stepped\": true, \"type\": \"scatter\", \"data\": [0.8025252525252524, 0.8192929292929293, 0.8193939393939395, 0.8193939393939395, 0.8461279461279462, 0.8461279461279462, 0.8461279461279462, 0.8461279461279462, 0.8461279461279462, 0.8461279461279462, 0.8461279461279462, 0.8461279461279462, 0.8461279461279462, 0.8461279461279462, 0.8461279461279462, 0.8461279461279462, 0.8461279461279462, 0.8461279461279462, 0.8461279461279462, 0.8461279461279462, 0.8461279461279462, 0.8461279461279462, 0.8461279461279462, 0.8461279461279462, 0.8461279461279462, 0.8461279461279462, 0.8461279461279462, 0.8461279461279462, 0.8461279461279462, 0.8461279461279462, 0.8461279461279462, 0.8461279461279462, 0.8461279461279462, 0.8662626262626264, 0.8662626262626264]}], \"f1_score_weighted\": [{\"categories\": [\"0\", \"1\", \"2\", \"3\", \"4\", \"5\", \"6\", \"7\", \"8\", \"9\", \"10\", \"11\", \"12\", \"13\", \"14\", \"15\", \"16\", \"17\", \"18\", \"19\", \"20\", \"21\", \"22\", \"23\", \"24\", \"25\", \"26\", \"27\", \"28\", \"29\", \"30\", \"31\", \"32\", \"36\", \"37\"], \"mode\": \"markers\", \"name\": \"f1_score_weighted\", \"stepped\": false, \"type\": \"scatter\", \"data\": [0.7994850745596541, 0.8173118768300475, 0.8152462797037449, 0.8119689564621696, 0.8429251623014514, 0.8355599889950082, 0.8378681659558991, 0.6887174621938312, 0.8136690442138922, 0.7995650973476026, 0.8047047003955697, 0.8295155196465936, 0.8080136542759302, 0.8106647435814103, 0.7841167968108608, 0.8124843436948402, 0.7808575550301514, 0.8033925219486608, 0.8290633370476304, 0.8227028604962978, 0.7642213612533247, 0.8114441718384593, 0.6640667497146934, 0.7924126448782288, 0.751834644307217, 0.6971858861037452, 0.7892005296364205, 0.8037377471504263, 0.8021790110546984, 0.7598636658987536, 0.652415804233986, 0.8311166610294219, 0.8292090611585702, 0.8601141505949665, 0.8260075738000047]}, {\"categories\": [\"0\", \"1\", \"2\", \"3\", \"4\", \"5\", \"6\", \"7\", \"8\", \"9\", \"10\", \"11\", \"12\", \"13\", \"14\", \"15\", \"16\", \"17\", \"18\", \"19\", \"20\", \"21\", \"22\", \"23\", \"24\", \"25\", \"26\", \"27\", \"28\", \"29\", \"30\", \"31\", \"32\", \"36\", \"37\"], \"mode\": \"lines\", \"name\": \"f1_score_weighted_max\", \"stepped\": true, \"type\": \"scatter\", \"data\": [0.7994850745596541, 0.8173118768300475, 0.8173118768300475, 0.8173118768300475, 0.8429251623014514, 0.8429251623014514, 0.8429251623014514, 0.8429251623014514, 0.8429251623014514, 0.8429251623014514, 0.8429251623014514, 0.8429251623014514, 0.8429251623014514, 0.8429251623014514, 0.8429251623014514, 0.8429251623014514, 0.8429251623014514, 0.8429251623014514, 0.8429251623014514, 0.8429251623014514, 0.8429251623014514, 0.8429251623014514, 0.8429251623014514, 0.8429251623014514, 0.8429251623014514, 0.8429251623014514, 0.8429251623014514, 0.8429251623014514, 0.8429251623014514, 0.8429251623014514, 0.8429251623014514, 0.8429251623014514, 0.8429251623014514, 0.8601141505949665, 0.8601141505949665]}], \"AUC_micro\": [{\"categories\": [\"0\", \"1\", \"2\", \"3\", \"4\", \"5\", \"6\", \"7\", \"8\", \"9\", \"10\", \"11\", \"12\", \"13\", \"14\", \"15\", \"16\", \"17\", \"18\", \"19\", \"20\", \"21\", \"22\", \"23\", \"24\", \"25\", \"26\", \"27\", \"28\", \"29\", \"30\", \"31\", \"32\", \"36\", \"37\"], \"mode\": \"markers\", \"name\": \"AUC_micro\", \"stepped\": false, \"type\": \"scatter\", \"data\": [0.8769284528789579, 0.8907238819168114, 0.8938243852668095, 0.8957392749039214, 0.9052467231234907, 0.8959885147774037, 0.8991083120769989, 0.7948307485630718, 0.8818292929292929, 0.8889753188450157, 0.882717450600279, 0.9072270924735572, 0.878536060946162, 0.8846012039587797, 0.8874196510560145, 0.8885988368533823, 0.8793059449716015, 0.8851369077985239, 0.8857636431656633, 0.9051935924905622, 0.8613238785157976, 0.8732277726762576, 0.8434577288031834, 0.888179039553787, 0.8576216848620888, 0.8627572152501445, 0.8795658436213992, 0.8671565418494712, 0.8629414889637111, 0.8113995306601368, 0.7018518450498249, 0.8967047580178894, 0.8996697309798319, 0.9030172771485904, 0.8951670271740979]}, {\"categories\": [\"0\", \"1\", \"2\", \"3\", \"4\", \"5\", \"6\", \"7\", \"8\", \"9\", \"10\", \"11\", \"12\", \"13\", \"14\", \"15\", \"16\", \"17\", \"18\", \"19\", \"20\", \"21\", \"22\", \"23\", \"24\", \"25\", \"26\", \"27\", \"28\", \"29\", \"30\", \"31\", \"32\", \"36\", \"37\"], \"mode\": \"lines\", \"name\": \"AUC_micro_max\", \"stepped\": true, \"type\": \"scatter\", \"data\": [0.8769284528789579, 0.8907238819168114, 0.8938243852668095, 0.8957392749039214, 0.9052467231234907, 0.9052467231234907, 0.9052467231234907, 0.9052467231234907, 0.9052467231234907, 0.9052467231234907, 0.9052467231234907, 0.9072270924735572, 0.9072270924735572, 0.9072270924735572, 0.9072270924735572, 0.9072270924735572, 0.9072270924735572, 0.9072270924735572, 0.9072270924735572, 0.9072270924735572, 0.9072270924735572, 0.9072270924735572, 0.9072270924735572, 0.9072270924735572, 0.9072270924735572, 0.9072270924735572, 0.9072270924735572, 0.9072270924735572, 0.9072270924735572, 0.9072270924735572, 0.9072270924735572, 0.9072270924735572, 0.9072270924735572, 0.9072270924735572, 0.9072270924735572]}], \"f1_score_macro\": [{\"categories\": [\"0\", \"1\", \"2\", \"3\", \"4\", \"5\", \"6\", \"7\", \"8\", \"9\", \"10\", \"11\", \"12\", \"13\", \"14\", \"15\", \"16\", \"17\", \"18\", \"19\", \"20\", \"21\", \"22\", \"23\", \"24\", \"25\", \"26\", \"27\", \"28\", \"29\", \"30\", \"31\", \"32\", \"36\", \"37\"], \"mode\": \"markers\", \"name\": \"f1_score_macro\", \"stepped\": false, \"type\": \"scatter\", \"data\": [0.7670520318568558, 0.7892216866138503, 0.7868988965692342, 0.7786385445395942, 0.8190573096933957, 0.8074920574495216, 0.8108926498833218, 0.6164141035258814, 0.7812320493936507, 0.7663079998997642, 0.7718759234847141, 0.8029399078471968, 0.7739811411786598, 0.7735933539504968, 0.7395764327727798, 0.7820453592493584, 0.7340581530693125, 0.7706948901564097, 0.7988773592864056, 0.7958188894790643, 0.7206684424150177, 0.7809103257894829, 0.5765425360787927, 0.7534472246003752, 0.7096931054311054, 0.6189370263290186, 0.7434677011646397, 0.7774858197770981, 0.7770574407099838, 0.7282365457804055, 0.6155054405054405, 0.8036434192456653, 0.8021449720608205, 0.83687758736326, 0.7996130777701983]}, {\"categories\": [\"0\", \"1\", \"2\", \"3\", \"4\", \"5\", \"6\", \"7\", \"8\", \"9\", \"10\", \"11\", \"12\", \"13\", \"14\", \"15\", \"16\", \"17\", \"18\", \"19\", \"20\", \"21\", \"22\", \"23\", \"24\", \"25\", \"26\", \"27\", \"28\", \"29\", \"30\", \"31\", \"32\", \"36\", \"37\"], \"mode\": \"lines\", \"name\": \"f1_score_macro_max\", \"stepped\": true, \"type\": \"scatter\", \"data\": [0.7670520318568558, 0.7892216866138503, 0.7892216866138503, 0.7892216866138503, 0.8190573096933957, 0.8190573096933957, 0.8190573096933957, 0.8190573096933957, 0.8190573096933957, 0.8190573096933957, 0.8190573096933957, 0.8190573096933957, 0.8190573096933957, 0.8190573096933957, 0.8190573096933957, 0.8190573096933957, 0.8190573096933957, 0.8190573096933957, 0.8190573096933957, 0.8190573096933957, 0.8190573096933957, 0.8190573096933957, 0.8190573096933957, 0.8190573096933957, 0.8190573096933957, 0.8190573096933957, 0.8190573096933957, 0.8190573096933957, 0.8190573096933957, 0.8190573096933957, 0.8190573096933957, 0.8190573096933957, 0.8190573096933957, 0.83687758736326, 0.83687758736326]}], \"AUC_weighted\": [{\"categories\": [\"0\", \"1\", \"2\", \"3\", \"4\", \"5\", \"6\", \"7\", \"8\", \"9\", \"10\", \"11\", \"12\", \"13\", \"14\", \"15\", \"16\", \"17\", \"18\", \"19\", \"20\", \"21\", \"22\", \"23\", \"24\", \"25\", \"26\", \"27\", \"28\", \"29\", \"30\", \"31\", \"32\", \"36\", \"37\"], \"mode\": \"markers\", \"name\": \"AUC_weighted\", \"stepped\": false, \"type\": \"scatter\", \"data\": [0.8550287233045855, 0.875938401455643, 0.8824406179578593, 0.8890480135307722, 0.9016051519499796, 0.8764438329955571, 0.8846464444740306, 0.7415250965250966, 0.8657367219436184, 0.8761749434163227, 0.8654426347529797, 0.897446609170747, 0.8508438487748832, 0.8692675927158686, 0.8779302948268466, 0.8762057131022649, 0.8775117975117975, 0.8720135899446243, 0.8632581103270759, 0.9028605452743385, 0.8348075168764825, 0.8537696070454691, 0.8482411968618866, 0.885369852611232, 0.833504045917839, 0.880223030912686, 0.8778131333303746, 0.8507464854016579, 0.8524003313658487, 0.7948036213553454, 0.7172955960886996, 0.8834521467280089, 0.8866426525047215, 0.894890999373758, 0.9008565215461767]}, {\"categories\": [\"0\", \"1\", \"2\", \"3\", \"4\", \"5\", \"6\", \"7\", \"8\", \"9\", \"10\", \"11\", \"12\", \"13\", \"14\", \"15\", \"16\", \"17\", \"18\", \"19\", \"20\", \"21\", \"22\", \"23\", \"24\", \"25\", \"26\", \"27\", \"28\", \"29\", \"30\", \"31\", \"32\", \"36\", \"37\"], \"mode\": \"lines\", \"name\": \"AUC_weighted_max\", \"stepped\": true, \"type\": \"scatter\", \"data\": [0.8550287233045855, 0.875938401455643, 0.8824406179578593, 0.8890480135307722, 0.9016051519499796, 0.9016051519499796, 0.9016051519499796, 0.9016051519499796, 0.9016051519499796, 0.9016051519499796, 0.9016051519499796, 0.9016051519499796, 0.9016051519499796, 0.9016051519499796, 0.9016051519499796, 0.9016051519499796, 0.9016051519499796, 0.9016051519499796, 0.9016051519499796, 0.9028605452743385, 0.9028605452743385, 0.9028605452743385, 0.9028605452743385, 0.9028605452743385, 0.9028605452743385, 0.9028605452743385, 0.9028605452743385, 0.9028605452743385, 0.9028605452743385, 0.9028605452743385, 0.9028605452743385, 0.9028605452743385, 0.9028605452743385, 0.9028605452743385, 0.9028605452743385]}], \"log_loss\": [{\"categories\": [\"0\", \"1\", \"2\", \"3\", \"4\", \"5\", \"6\", \"7\", \"8\", \"9\", \"10\", \"11\", \"12\", \"13\", \"14\", \"15\", \"16\", \"17\", \"18\", \"19\", \"20\", \"21\", \"22\", \"23\", \"24\", \"25\", \"26\", \"27\", \"28\", \"29\", \"30\", \"31\", \"32\", \"36\", \"37\"], \"mode\": \"markers\", \"name\": \"log_loss\", \"stepped\": false, \"type\": \"scatter\", \"data\": [0.5791360620615199, 0.4649911805096085, 0.41932151922066074, 0.42303621681705345, 0.40112390563061456, 0.4041972314193137, 0.4723148138723305, 0.5642154043911468, 0.4610610443465181, 0.45020031227252777, 0.43253324937105053, 0.3874306634643077, 0.44502032965807586, 0.4561819956541853, 0.45674778941181016, 0.43449513635999043, 0.4742379394943585, 0.4336877632946468, 0.4776229082082555, 0.3885110961125049, 0.47238156082794774, 0.4848889514346584, 0.5230040020254948, 0.4406181722738767, 0.47396858094477806, 0.49949765802550355, 0.46990021597229203, 0.49135825322658916, 0.5787680936013754, 0.6582541579164073, 0.669703626966322, 0.41107549385609055, 0.4007276503569213, 0.4275076824621962, 0.4207053777204773]}, {\"categories\": [\"0\", \"1\", \"2\", \"3\", \"4\", \"5\", \"6\", \"7\", \"8\", \"9\", \"10\", \"11\", \"12\", \"13\", \"14\", \"15\", \"16\", \"17\", \"18\", \"19\", \"20\", \"21\", \"22\", \"23\", \"24\", \"25\", \"26\", \"27\", \"28\", \"29\", \"30\", \"31\", \"32\", \"36\", \"37\"], \"mode\": \"lines\", \"name\": \"log_loss_min\", \"stepped\": true, \"type\": \"scatter\", \"data\": [0.5791360620615199, 0.4649911805096085, 0.41932151922066074, 0.41932151922066074, 0.40112390563061456, 0.40112390563061456, 0.40112390563061456, 0.40112390563061456, 0.40112390563061456, 0.40112390563061456, 0.40112390563061456, 0.3874306634643077, 0.3874306634643077, 0.3874306634643077, 0.3874306634643077, 0.3874306634643077, 0.3874306634643077, 0.3874306634643077, 0.3874306634643077, 0.3874306634643077, 0.3874306634643077, 0.3874306634643077, 0.3874306634643077, 0.3874306634643077, 0.3874306634643077, 0.3874306634643077, 0.3874306634643077, 0.3874306634643077, 0.3874306634643077, 0.3874306634643077, 0.3874306634643077, 0.3874306634643077, 0.3874306634643077, 0.3874306634643077, 0.3874306634643077]}], \"average_precision_score_micro\": [{\"categories\": [\"0\", \"1\", \"2\", \"3\", \"4\", \"5\", \"6\", \"7\", \"8\", \"9\", \"10\", \"11\", \"12\", \"13\", \"14\", \"15\", \"16\", \"17\", \"18\", \"19\", \"20\", \"21\", \"22\", \"23\", \"24\", \"25\", \"26\", \"27\", \"28\", \"29\", \"30\", \"31\", \"32\", \"36\", \"37\"], \"mode\": \"markers\", \"name\": \"average_precision_score_micro\", \"stepped\": false, \"type\": \"scatter\", \"data\": [0.8707751210307144, 0.8886385174313017, 0.8956423292894081, 0.8944680634340623, 0.9057172978167718, 0.8930102305040611, 0.8843636116908512, 0.7863253952388926, 0.8766432757034067, 0.8900089971581483, 0.8821533233469135, 0.9067236264945921, 0.8692866560470568, 0.8827055752550511, 0.8888231447785652, 0.8881867027743381, 0.8757839713368377, 0.8885879911035843, 0.8668312520885745, 0.90680103515448, 0.8540237022628882, 0.8706513899656709, 0.8474667641708642, 0.890678952330278, 0.8567832491611972, 0.8672714930550448, 0.8816494160695602, 0.8562823808700283, 0.8587359762106929, 0.8040417624286925, 0.6942360467727712, 0.8944045910543418, 0.8959822736726418, 0.902898166120834, 0.8958858837846103]}, {\"categories\": [\"0\", \"1\", \"2\", \"3\", \"4\", \"5\", \"6\", \"7\", \"8\", \"9\", \"10\", \"11\", \"12\", \"13\", \"14\", \"15\", \"16\", \"17\", \"18\", \"19\", \"20\", \"21\", \"22\", \"23\", \"24\", \"25\", \"26\", \"27\", \"28\", \"29\", \"30\", \"31\", \"32\", \"36\", \"37\"], \"mode\": \"lines\", \"name\": \"average_precision_score_micro_max\", \"stepped\": true, \"type\": \"scatter\", \"data\": [0.8707751210307144, 0.8886385174313017, 0.8956423292894081, 0.8956423292894081, 0.9057172978167718, 0.9057172978167718, 0.9057172978167718, 0.9057172978167718, 0.9057172978167718, 0.9057172978167718, 0.9057172978167718, 0.9067236264945921, 0.9067236264945921, 0.9067236264945921, 0.9067236264945921, 0.9067236264945921, 0.9067236264945921, 0.9067236264945921, 0.9067236264945921, 0.90680103515448, 0.90680103515448, 0.90680103515448, 0.90680103515448, 0.90680103515448, 0.90680103515448, 0.90680103515448, 0.90680103515448, 0.90680103515448, 0.90680103515448, 0.90680103515448, 0.90680103515448, 0.90680103515448, 0.90680103515448, 0.90680103515448, 0.90680103515448]}], \"f1_score_micro\": [{\"categories\": [\"0\", \"1\", \"2\", \"3\", \"4\", \"5\", \"6\", \"7\", \"8\", \"9\", \"10\", \"11\", \"12\", \"13\", \"14\", \"15\", \"16\", \"17\", \"18\", \"19\", \"20\", \"21\", \"22\", \"23\", \"24\", \"25\", \"26\", \"27\", \"28\", \"29\", \"30\", \"31\", \"32\", \"36\", \"37\"], \"mode\": \"markers\", \"name\": \"f1_score_micro\", \"stepped\": false, \"type\": \"scatter\", \"data\": [0.8025252525252525, 0.8192929292929293, 0.8193939393939393, 0.8193602693602694, 0.8461279461279462, 0.8393602693602693, 0.8427609427609428, 0.7223569023569024, 0.8227946127946127, 0.806026936026936, 0.8127946127946127, 0.8327272727272729, 0.8125925925925926, 0.8227609427609428, 0.7992592592592592, 0.8160942760942761, 0.7992592592592592, 0.8093939393939394, 0.8360606060606061, 0.825925925925926, 0.7793939393939394, 0.816060606060606, 0.7224242424242423, 0.806026936026936, 0.7556902356902357, 0.7458585858585858, 0.805959595959596, 0.8024915824915825, 0.7991245791245792, 0.7556902356902357, 0.6519191919191919, 0.8360606060606061, 0.8327272727272729, 0.8662626262626264, 0.8293265993265994]}, {\"categories\": [\"0\", \"1\", \"2\", \"3\", \"4\", \"5\", \"6\", \"7\", \"8\", \"9\", \"10\", \"11\", \"12\", \"13\", \"14\", \"15\", \"16\", \"17\", \"18\", \"19\", \"20\", \"21\", \"22\", \"23\", \"24\", \"25\", \"26\", \"27\", \"28\", \"29\", \"30\", \"31\", \"32\", \"36\", \"37\"], \"mode\": \"lines\", \"name\": \"f1_score_micro_max\", \"stepped\": true, \"type\": \"scatter\", \"data\": [0.8025252525252525, 0.8192929292929293, 0.8193939393939393, 0.8193939393939393, 0.8461279461279462, 0.8461279461279462, 0.8461279461279462, 0.8461279461279462, 0.8461279461279462, 0.8461279461279462, 0.8461279461279462, 0.8461279461279462, 0.8461279461279462, 0.8461279461279462, 0.8461279461279462, 0.8461279461279462, 0.8461279461279462, 0.8461279461279462, 0.8461279461279462, 0.8461279461279462, 0.8461279461279462, 0.8461279461279462, 0.8461279461279462, 0.8461279461279462, 0.8461279461279462, 0.8461279461279462, 0.8461279461279462, 0.8461279461279462, 0.8461279461279462, 0.8461279461279462, 0.8461279461279462, 0.8461279461279462, 0.8461279461279462, 0.8662626262626264, 0.8662626262626264]}], \"average_precision_score_macro\": [{\"categories\": [\"0\", \"1\", \"2\", \"3\", \"4\", \"5\", \"6\", \"7\", \"8\", \"9\", \"10\", \"11\", \"12\", \"13\", \"14\", \"15\", \"16\", \"17\", \"18\", \"19\", \"20\", \"21\", \"22\", \"23\", \"24\", \"25\", \"26\", \"27\", \"28\", \"29\", \"30\", \"31\", \"32\", \"36\", \"37\"], \"mode\": \"markers\", \"name\": \"average_precision_score_macro\", \"stepped\": false, \"type\": \"scatter\", \"data\": [0.8323265818260129, 0.8521645844042397, 0.8623389720683677, 0.8708911711873953, 0.879862442350635, 0.859066520059208, 0.858043629022177, 0.7217124986335914, 0.8466693829044498, 0.8556030934732609, 0.8458511823047257, 0.8801743520206281, 0.8391360927961897, 0.8577876659675091, 0.861590774891471, 0.8578739211777048, 0.8494369869953836, 0.8557386113690734, 0.8362984341999983, 0.8853624531853126, 0.8129030031968307, 0.8308970934877967, 0.8290003603463703, 0.8614227606367995, 0.8093405413262231, 0.8589387890553528, 0.8575700786130233, 0.8384858555996928, 0.8366882661646157, 0.7810980473844081, 0.6632882333267459, 0.863769296623115, 0.8680196133218345, 0.875620000863291, 0.8826085175282449]}, {\"categories\": [\"0\", \"1\", \"2\", \"3\", \"4\", \"5\", \"6\", \"7\", \"8\", \"9\", \"10\", \"11\", \"12\", \"13\", \"14\", \"15\", \"16\", \"17\", \"18\", \"19\", \"20\", \"21\", \"22\", \"23\", \"24\", \"25\", \"26\", \"27\", \"28\", \"29\", \"30\", \"31\", \"32\", \"36\", \"37\"], \"mode\": \"lines\", \"name\": \"average_precision_score_macro_max\", \"stepped\": true, \"type\": \"scatter\", \"data\": [0.8323265818260129, 0.8521645844042397, 0.8623389720683677, 0.8708911711873953, 0.879862442350635, 0.879862442350635, 0.879862442350635, 0.879862442350635, 0.879862442350635, 0.879862442350635, 0.879862442350635, 0.8801743520206281, 0.8801743520206281, 0.8801743520206281, 0.8801743520206281, 0.8801743520206281, 0.8801743520206281, 0.8801743520206281, 0.8801743520206281, 0.8853624531853126, 0.8853624531853126, 0.8853624531853126, 0.8853624531853126, 0.8853624531853126, 0.8853624531853126, 0.8853624531853126, 0.8853624531853126, 0.8853624531853126, 0.8853624531853126, 0.8853624531853126, 0.8853624531853126, 0.8853624531853126, 0.8853624531853126, 0.8853624531853126, 0.8853624531853126]}], \"weighted_accuracy\": [{\"categories\": [\"0\", \"1\", \"2\", \"3\", \"4\", \"5\", \"6\", \"7\", \"8\", \"9\", \"10\", \"11\", \"12\", \"13\", \"14\", \"15\", \"16\", \"17\", \"18\", \"19\", \"20\", \"21\", \"22\", \"23\", \"24\", \"25\", \"26\", \"27\", \"28\", \"29\", \"30\", \"31\", \"32\", \"36\", \"37\"], \"mode\": \"markers\", \"name\": \"weighted_accuracy\", \"stepped\": false, \"type\": \"scatter\", \"data\": [0.8310099034285422, 0.8426543037328149, 0.8429769295552761, 0.8568775756320043, 0.8671391171703912, 0.8673578450514349, 0.8747324116222769, 0.8028498311759348, 0.8621652535855752, 0.8403026994704419, 0.8501924626023767, 0.855725550308116, 0.849102556926283, 0.8743606332158249, 0.8570570362138673, 0.8446767362663526, 0.8613207019259527, 0.8451312340618644, 0.8754175265932774, 0.8492267071797825, 0.8307680947800434, 0.8465257639803268, 0.8228114614540284, 0.8523967376124411, 0.7911595950117597, 0.8412794944618907, 0.868111235351707, 0.8162488789295175, 0.8062011267368078, 0.7691069517497935, 0.665662367683801, 0.8660587501375755, 0.8580244008828286, 0.897745392091904, 0.8508629153717204]}, {\"categories\": [\"0\", \"1\", \"2\", \"3\", \"4\", \"5\", \"6\", \"7\", \"8\", \"9\", \"10\", \"11\", \"12\", \"13\", \"14\", \"15\", \"16\", \"17\", \"18\", \"19\", \"20\", \"21\", \"22\", \"23\", \"24\", \"25\", \"26\", \"27\", \"28\", \"29\", \"30\", \"31\", \"32\", \"36\", \"37\"], \"mode\": \"lines\", \"name\": \"weighted_accuracy_max\", \"stepped\": true, \"type\": \"scatter\", \"data\": [0.8310099034285422, 0.8426543037328149, 0.8429769295552761, 0.8568775756320043, 0.8671391171703912, 0.8673578450514349, 0.8747324116222769, 0.8747324116222769, 0.8747324116222769, 0.8747324116222769, 0.8747324116222769, 0.8747324116222769, 0.8747324116222769, 0.8747324116222769, 0.8747324116222769, 0.8747324116222769, 0.8747324116222769, 0.8747324116222769, 0.8754175265932774, 0.8754175265932774, 0.8754175265932774, 0.8754175265932774, 0.8754175265932774, 0.8754175265932774, 0.8754175265932774, 0.8754175265932774, 0.8754175265932774, 0.8754175265932774, 0.8754175265932774, 0.8754175265932774, 0.8754175265932774, 0.8754175265932774, 0.8754175265932774, 0.897745392091904, 0.897745392091904]}], \"average_precision_score_weighted\": [{\"categories\": [\"0\", \"1\", \"2\", \"3\", \"4\", \"5\", \"6\", \"7\", \"8\", \"9\", \"10\", \"11\", \"12\", \"13\", \"14\", \"15\", \"16\", \"17\", \"18\", \"19\", \"20\", \"21\", \"22\", \"23\", \"24\", \"25\", \"26\", \"27\", \"28\", \"29\", \"30\", \"31\", \"32\", \"36\", \"37\"], \"mode\": \"markers\", \"name\": \"average_precision_score_weighted\", \"stepped\": false, \"type\": \"scatter\", \"data\": [0.8648843990393956, 0.8836277505100775, 0.8908327478515693, 0.8969131992015521, 0.9064609783396486, 0.8866431773687332, 0.8810275294817003, 0.76941805047861, 0.8739854058890568, 0.8854636187381669, 0.8752956196709555, 0.9042039018194683, 0.864707032326755, 0.8830710040977966, 0.8900862165683137, 0.8865458357913466, 0.878928747764978, 0.8853675811007778, 0.8612423712357787, 0.9088628283291053, 0.844629867933568, 0.8624339762603066, 0.8626328900746153, 0.8919386019122117, 0.8474215811953153, 0.8867789257539603, 0.8876830492040256, 0.8635783877227875, 0.8669608332118268, 0.817447662251491, 0.7236046288171843, 0.8910394287891531, 0.8933940874981271, 0.9013953697130807, 0.9080973819380503]}, {\"categories\": [\"0\", \"1\", \"2\", \"3\", \"4\", \"5\", \"6\", \"7\", \"8\", \"9\", \"10\", \"11\", \"12\", \"13\", \"14\", \"15\", \"16\", \"17\", \"18\", \"19\", \"20\", \"21\", \"22\", \"23\", \"24\", \"25\", \"26\", \"27\", \"28\", \"29\", \"30\", \"31\", \"32\", \"36\", \"37\"], \"mode\": \"lines\", \"name\": \"average_precision_score_weighted_max\", \"stepped\": true, \"type\": \"scatter\", \"data\": [0.8648843990393956, 0.8836277505100775, 0.8908327478515693, 0.8969131992015521, 0.9064609783396486, 0.9064609783396486, 0.9064609783396486, 0.9064609783396486, 0.9064609783396486, 0.9064609783396486, 0.9064609783396486, 0.9064609783396486, 0.9064609783396486, 0.9064609783396486, 0.9064609783396486, 0.9064609783396486, 0.9064609783396486, 0.9064609783396486, 0.9064609783396486, 0.9088628283291053, 0.9088628283291053, 0.9088628283291053, 0.9088628283291053, 0.9088628283291053, 0.9088628283291053, 0.9088628283291053, 0.9088628283291053, 0.9088628283291053, 0.9088628283291053, 0.9088628283291053, 0.9088628283291053, 0.9088628283291053, 0.9088628283291053, 0.9088628283291053, 0.9088628283291053]}], \"balanced_accuracy\": [{\"categories\": [\"0\", \"1\", \"2\", \"3\", \"4\", \"5\", \"6\", \"7\", \"8\", \"9\", \"10\", \"11\", \"12\", \"13\", \"14\", \"15\", \"16\", \"17\", \"18\", \"19\", \"20\", \"21\", \"22\", \"23\", \"24\", \"25\", \"26\", \"27\", \"28\", \"29\", \"30\", \"31\", \"32\", \"36\", \"37\"], \"mode\": \"markers\", \"name\": \"balanced_accuracy\", \"stepped\": false, \"type\": \"scatter\", \"data\": [0.7665542389680322, 0.7899604037535072, 0.7908511960236098, 0.7715663939801871, 0.8206866965487656, 0.8036055760193692, 0.8020495865323451, 0.6162273110548973, 0.7727288865219899, 0.7626831264762299, 0.7652484997312583, 0.8044305389132975, 0.7647896665138044, 0.7554946572187952, 0.7236958633510358, 0.7802834854558992, 0.7177500160258781, 0.7634839272770307, 0.7852571783606267, 0.7975450820278406, 0.7133224357362288, 0.7776308328032465, 0.5902656350932213, 0.7468160278505106, 0.7095117284772456, 0.6198437353609768, 0.7240405430060602, 0.7859263204090791, 0.7916877468601605, 0.7380185604323536, 0.63522981109188, 0.7983387328214914, 0.8012559357386944, 0.8265726317450456, 0.8035567587291724]}, {\"categories\": [\"0\", \"1\", \"2\", \"3\", \"4\", \"5\", \"6\", \"7\", \"8\", \"9\", \"10\", \"11\", \"12\", \"13\", \"14\", \"15\", \"16\", \"17\", \"18\", \"19\", \"20\", \"21\", \"22\", \"23\", \"24\", \"25\", \"26\", \"27\", \"28\", \"29\", \"30\", \"31\", \"32\", \"36\", \"37\"], \"mode\": \"lines\", \"name\": \"balanced_accuracy_max\", \"stepped\": true, \"type\": \"scatter\", \"data\": [0.7665542389680322, 0.7899604037535072, 0.7908511960236098, 0.7908511960236098, 0.8206866965487656, 0.8206866965487656, 0.8206866965487656, 0.8206866965487656, 0.8206866965487656, 0.8206866965487656, 0.8206866965487656, 0.8206866965487656, 0.8206866965487656, 0.8206866965487656, 0.8206866965487656, 0.8206866965487656, 0.8206866965487656, 0.8206866965487656, 0.8206866965487656, 0.8206866965487656, 0.8206866965487656, 0.8206866965487656, 0.8206866965487656, 0.8206866965487656, 0.8206866965487656, 0.8206866965487656, 0.8206866965487656, 0.8206866965487656, 0.8206866965487656, 0.8206866965487656, 0.8206866965487656, 0.8206866965487656, 0.8206866965487656, 0.8265726317450456, 0.8265726317450456]}], \"accuracy\": [{\"categories\": [\"0\", \"1\", \"2\", \"3\", \"4\", \"5\", \"6\", \"7\", \"8\", \"9\", \"10\", \"11\", \"12\", \"13\", \"14\", \"15\", \"16\", \"17\", \"18\", \"19\", \"20\", \"21\", \"22\", \"23\", \"24\", \"25\", \"26\", \"27\", \"28\", \"29\", \"30\", \"31\", \"32\", \"36\", \"37\"], \"mode\": \"markers\", \"name\": \"accuracy\", \"stepped\": false, \"type\": \"scatter\", \"data\": [0.8025252525252524, 0.8192929292929293, 0.8193939393939395, 0.8193602693602693, 0.8461279461279462, 0.8393602693602693, 0.8427609427609428, 0.7223569023569024, 0.8227946127946127, 0.806026936026936, 0.8127946127946127, 0.8327272727272729, 0.8125925925925926, 0.8227609427609428, 0.7992592592592592, 0.8160942760942761, 0.7992592592592592, 0.8093939393939394, 0.8360606060606061, 0.825925925925926, 0.7793939393939394, 0.816060606060606, 0.7224242424242423, 0.806026936026936, 0.7556902356902357, 0.7458585858585858, 0.805959595959596, 0.8024915824915825, 0.7991245791245792, 0.7556902356902357, 0.6519191919191919, 0.8360606060606061, 0.8327272727272729, 0.8662626262626264, 0.8293265993265994]}, {\"categories\": [\"0\", \"1\", \"2\", \"3\", \"4\", \"5\", \"6\", \"7\", \"8\", \"9\", \"10\", \"11\", \"12\", \"13\", \"14\", \"15\", \"16\", \"17\", \"18\", \"19\", \"20\", \"21\", \"22\", \"23\", \"24\", \"25\", \"26\", \"27\", \"28\", \"29\", \"30\", \"31\", \"32\", \"36\", \"37\"], \"mode\": \"lines\", \"name\": \"accuracy_max\", \"stepped\": true, \"type\": \"scatter\", \"data\": [0.8025252525252524, 0.8192929292929293, 0.8193939393939395, 0.8193939393939395, 0.8461279461279462, 0.8461279461279462, 0.8461279461279462, 0.8461279461279462, 0.8461279461279462, 0.8461279461279462, 0.8461279461279462, 0.8461279461279462, 0.8461279461279462, 0.8461279461279462, 0.8461279461279462, 0.8461279461279462, 0.8461279461279462, 0.8461279461279462, 0.8461279461279462, 0.8461279461279462, 0.8461279461279462, 0.8461279461279462, 0.8461279461279462, 0.8461279461279462, 0.8461279461279462, 0.8461279461279462, 0.8461279461279462, 0.8461279461279462, 0.8461279461279462, 0.8461279461279462, 0.8461279461279462, 0.8461279461279462, 0.8461279461279462, 0.8662626262626264, 0.8662626262626264]}], \"precision_score_weighted\": [{\"categories\": [\"0\", \"1\", \"2\", \"3\", \"4\", \"5\", \"6\", \"7\", \"8\", \"9\", \"10\", \"11\", \"12\", \"13\", \"14\", \"15\", \"16\", \"17\", \"18\", \"19\", \"20\", \"21\", \"22\", \"23\", \"24\", \"25\", \"26\", \"27\", \"28\", \"29\", \"30\", \"31\", \"32\", \"36\", \"37\"], \"mode\": \"markers\", \"name\": \"precision_score_weighted\", \"stepped\": false, \"type\": \"scatter\", \"data\": [0.8103076903348296, 0.8235687391092353, 0.8301821189007272, 0.8292125664072746, 0.854058714388192, 0.8450450308292031, 0.8473195400731632, 0.7119589869412385, 0.8272164199427946, 0.8096244648296079, 0.8133309343435925, 0.8406525447528664, 0.812022911761623, 0.8297007865428917, 0.8076605693000686, 0.8251879798977934, 0.8057040309651328, 0.8084514584514585, 0.84015949973065, 0.8365461588953874, 0.7762552705096253, 0.8209253215826392, 0.7401492614882197, 0.8190545054740478, 0.7591980951063143, 0.7720545784182149, 0.8153327906689095, 0.8123760083763818, 0.8180941751446378, 0.7677741246435833, 0.6933038336428167, 0.8417640845344829, 0.8392915079138885, 0.87249149398118, 0.8432173417212621]}, {\"categories\": [\"0\", \"1\", \"2\", \"3\", \"4\", \"5\", \"6\", \"7\", \"8\", \"9\", \"10\", \"11\", \"12\", \"13\", \"14\", \"15\", \"16\", \"17\", \"18\", \"19\", \"20\", \"21\", \"22\", \"23\", \"24\", \"25\", \"26\", \"27\", \"28\", \"29\", \"30\", \"31\", \"32\", \"36\", \"37\"], \"mode\": \"lines\", \"name\": \"precision_score_weighted_max\", \"stepped\": true, \"type\": \"scatter\", \"data\": [0.8103076903348296, 0.8235687391092353, 0.8301821189007272, 0.8301821189007272, 0.854058714388192, 0.854058714388192, 0.854058714388192, 0.854058714388192, 0.854058714388192, 0.854058714388192, 0.854058714388192, 0.854058714388192, 0.854058714388192, 0.854058714388192, 0.854058714388192, 0.854058714388192, 0.854058714388192, 0.854058714388192, 0.854058714388192, 0.854058714388192, 0.854058714388192, 0.854058714388192, 0.854058714388192, 0.854058714388192, 0.854058714388192, 0.854058714388192, 0.854058714388192, 0.854058714388192, 0.854058714388192, 0.854058714388192, 0.854058714388192, 0.854058714388192, 0.854058714388192, 0.87249149398118, 0.87249149398118]}], \"AUC_macro\": [{\"categories\": [\"0\", \"1\", \"2\", \"3\", \"4\", \"5\", \"6\", \"7\", \"8\", \"9\", \"10\", \"11\", \"12\", \"13\", \"14\", \"15\", \"16\", \"17\", \"18\", \"19\", \"20\", \"21\", \"22\", \"23\", \"24\", \"25\", \"26\", \"27\", \"28\", \"29\", \"30\", \"31\", \"32\", \"36\", \"37\"], \"mode\": \"markers\", \"name\": \"AUC_macro\", \"stepped\": false, \"type\": \"scatter\", \"data\": [0.8550287233045853, 0.875938401455643, 0.8824406179578593, 0.8890480135307722, 0.9016051519499796, 0.8764438329955571, 0.8846464444740306, 0.7415250965250966, 0.8657367219436184, 0.8761749434163226, 0.8654426347529794, 0.8974466091707471, 0.8508438487748834, 0.8692675927158686, 0.8779302948268466, 0.8762057131022649, 0.8775117975117975, 0.8720135899446243, 0.8632581103270759, 0.9028605452743385, 0.8348075168764825, 0.8537696070454691, 0.8482411968618866, 0.8853698526112318, 0.833504045917839, 0.880223030912686, 0.8778131333303746, 0.8507464854016579, 0.8524003313658487, 0.7948036213553454, 0.7172955960886996, 0.8834521467280089, 0.8866426525047215, 0.894890999373758, 0.9008565215461767]}, {\"categories\": [\"0\", \"1\", \"2\", \"3\", \"4\", \"5\", \"6\", \"7\", \"8\", \"9\", \"10\", \"11\", \"12\", \"13\", \"14\", \"15\", \"16\", \"17\", \"18\", \"19\", \"20\", \"21\", \"22\", \"23\", \"24\", \"25\", \"26\", \"27\", \"28\", \"29\", \"30\", \"31\", \"32\", \"36\", \"37\"], \"mode\": \"lines\", \"name\": \"AUC_macro_max\", \"stepped\": true, \"type\": \"scatter\", \"data\": [0.8550287233045853, 0.875938401455643, 0.8824406179578593, 0.8890480135307722, 0.9016051519499796, 0.9016051519499796, 0.9016051519499796, 0.9016051519499796, 0.9016051519499796, 0.9016051519499796, 0.9016051519499796, 0.9016051519499796, 0.9016051519499796, 0.9016051519499796, 0.9016051519499796, 0.9016051519499796, 0.9016051519499796, 0.9016051519499796, 0.9016051519499796, 0.9028605452743385, 0.9028605452743385, 0.9028605452743385, 0.9028605452743385, 0.9028605452743385, 0.9028605452743385, 0.9028605452743385, 0.9028605452743385, 0.9028605452743385, 0.9028605452743385, 0.9028605452743385, 0.9028605452743385, 0.9028605452743385, 0.9028605452743385, 0.9028605452743385, 0.9028605452743385]}], \"recall_score_macro\": [{\"categories\": [\"0\", \"1\", \"2\", \"3\", \"4\", \"5\", \"6\", \"7\", \"8\", \"9\", \"10\", \"11\", \"12\", \"13\", \"14\", \"15\", \"16\", \"17\", \"18\", \"19\", \"20\", \"21\", \"22\", \"23\", \"24\", \"25\", \"26\", \"27\", \"28\", \"29\", \"30\", \"31\", \"32\", \"36\", \"37\"], \"mode\": \"markers\", \"name\": \"recall_score_macro\", \"stepped\": false, \"type\": \"scatter\", \"data\": [0.7665542389680322, 0.7899604037535072, 0.7908511960236098, 0.7715663939801871, 0.8206866965487656, 0.8036055760193692, 0.8020495865323451, 0.6162273110548973, 0.7727288865219899, 0.7626831264762299, 0.7652484997312583, 0.8044305389132975, 0.7647896665138044, 0.7554946572187952, 0.7236958633510358, 0.7802834854558992, 0.7177500160258781, 0.7634839272770307, 0.7852571783606267, 0.7975450820278406, 0.7133224357362288, 0.7776308328032465, 0.5902656350932213, 0.7468160278505106, 0.7095117284772456, 0.6198437353609768, 0.7240405430060602, 0.7859263204090791, 0.7916877468601605, 0.7380185604323536, 0.63522981109188, 0.7983387328214914, 0.8012559357386944, 0.8265726317450456, 0.8035567587291724]}, {\"categories\": [\"0\", \"1\", \"2\", \"3\", \"4\", \"5\", \"6\", \"7\", \"8\", \"9\", \"10\", \"11\", \"12\", \"13\", \"14\", \"15\", \"16\", \"17\", \"18\", \"19\", \"20\", \"21\", \"22\", \"23\", \"24\", \"25\", \"26\", \"27\", \"28\", \"29\", \"30\", \"31\", \"32\", \"36\", \"37\"], \"mode\": \"lines\", \"name\": \"recall_score_macro_max\", \"stepped\": true, \"type\": \"scatter\", \"data\": [0.7665542389680322, 0.7899604037535072, 0.7908511960236098, 0.7908511960236098, 0.8206866965487656, 0.8206866965487656, 0.8206866965487656, 0.8206866965487656, 0.8206866965487656, 0.8206866965487656, 0.8206866965487656, 0.8206866965487656, 0.8206866965487656, 0.8206866965487656, 0.8206866965487656, 0.8206866965487656, 0.8206866965487656, 0.8206866965487656, 0.8206866965487656, 0.8206866965487656, 0.8206866965487656, 0.8206866965487656, 0.8206866965487656, 0.8206866965487656, 0.8206866965487656, 0.8206866965487656, 0.8206866965487656, 0.8206866965487656, 0.8206866965487656, 0.8206866965487656, 0.8206866965487656, 0.8206866965487656, 0.8206866965487656, 0.8265726317450456, 0.8265726317450456]}], \"matthews_correlation\": [{\"categories\": [\"0\", \"1\", \"2\", \"3\", \"4\", \"5\", \"6\", \"7\", \"8\", \"9\", \"10\", \"11\", \"12\", \"13\", \"14\", \"15\", \"16\", \"17\", \"18\", \"19\", \"20\", \"21\", \"22\", \"23\", \"24\", \"25\", \"26\", \"27\", \"28\", \"29\", \"30\", \"31\", \"32\", \"36\", \"37\"], \"mode\": \"markers\", \"name\": \"matthews_correlation\", \"stepped\": false, \"type\": \"scatter\", \"data\": [0.5489062305154261, 0.5873460381369527, 0.5942233023076242, 0.5831023690303843, 0.6534890521358298, 0.629280162183949, 0.637161371444118, 0.29539293845821646, 0.5864560784648222, 0.5501528291274128, 0.5616846438528089, 0.6212581502606259, 0.5572345458598266, 0.5810400735898787, 0.5206815544288796, 0.581403338524756, 0.5155421538620677, 0.5533566738938602, 0.6173089145960722, 0.6099732483410941, 0.47070213407475, 0.5770144695579107, 0.2945248654474703, 0.5488981341572399, 0.43163961361245756, 0.370616442075516, 0.5340721118559703, 0.5634078369409565, 0.5688796478089305, 0.46088643454683415, 0.27451024136133956, 0.6238669480290892, 0.6187824791863809, 0.693356364732665, 0.6212098923519593]}, {\"categories\": [\"0\", \"1\", \"2\", \"3\", \"4\", \"5\", \"6\", \"7\", \"8\", \"9\", \"10\", \"11\", \"12\", \"13\", \"14\", \"15\", \"16\", \"17\", \"18\", \"19\", \"20\", \"21\", \"22\", \"23\", \"24\", \"25\", \"26\", \"27\", \"28\", \"29\", \"30\", \"31\", \"32\", \"36\", \"37\"], \"mode\": \"lines\", \"name\": \"matthews_correlation_max\", \"stepped\": true, \"type\": \"scatter\", \"data\": [0.5489062305154261, 0.5873460381369527, 0.5942233023076242, 0.5942233023076242, 0.6534890521358298, 0.6534890521358298, 0.6534890521358298, 0.6534890521358298, 0.6534890521358298, 0.6534890521358298, 0.6534890521358298, 0.6534890521358298, 0.6534890521358298, 0.6534890521358298, 0.6534890521358298, 0.6534890521358298, 0.6534890521358298, 0.6534890521358298, 0.6534890521358298, 0.6534890521358298, 0.6534890521358298, 0.6534890521358298, 0.6534890521358298, 0.6534890521358298, 0.6534890521358298, 0.6534890521358298, 0.6534890521358298, 0.6534890521358298, 0.6534890521358298, 0.6534890521358298, 0.6534890521358298, 0.6534890521358298, 0.6534890521358298, 0.693356364732665, 0.693356364732665]}], \"norm_macro_recall\": [{\"categories\": [\"0\", \"1\", \"2\", \"3\", \"4\", \"5\", \"6\", \"7\", \"8\", \"9\", \"10\", \"11\", \"12\", \"13\", \"14\", \"15\", \"16\", \"17\", \"18\", \"19\", \"20\", \"21\", \"22\", \"23\", \"24\", \"25\", \"26\", \"27\", \"28\", \"29\", \"30\", \"31\", \"32\", \"36\", \"37\"], \"mode\": \"markers\", \"name\": \"norm_macro_recall\", \"stepped\": false, \"type\": \"scatter\", \"data\": [0.5331084779360642, 0.5799208075070145, 0.5817023920472196, 0.5431327879603741, 0.641373393097531, 0.6072111520387382, 0.6040991730646903, 0.2324546221097946, 0.5454577730439799, 0.5253662529524599, 0.5304969994625166, 0.608861077826595, 0.5295793330276088, 0.5109893144375903, 0.4473917267020715, 0.5605669709117983, 0.4355000320517562, 0.5269678545540615, 0.5705143567212532, 0.5950901640556813, 0.4266448714724577, 0.5552616656064931, 0.18053127018644263, 0.4936320557010212, 0.41902345695449145, 0.23968747072195354, 0.4480810860121205, 0.571852640818158, 0.5833754937203213, 0.4760371208647071, 0.27045962218376013, 0.5966774656429829, 0.6025118714773887, 0.653145263490091, 0.607113517458345]}, {\"categories\": [\"0\", \"1\", \"2\", \"3\", \"4\", \"5\", \"6\", \"7\", \"8\", \"9\", \"10\", \"11\", \"12\", \"13\", \"14\", \"15\", \"16\", \"17\", \"18\", \"19\", \"20\", \"21\", \"22\", \"23\", \"24\", \"25\", \"26\", \"27\", \"28\", \"29\", \"30\", \"31\", \"32\", \"36\", \"37\"], \"mode\": \"lines\", \"name\": \"norm_macro_recall_max\", \"stepped\": true, \"type\": \"scatter\", \"data\": [0.5331084779360642, 0.5799208075070145, 0.5817023920472196, 0.5817023920472196, 0.641373393097531, 0.641373393097531, 0.641373393097531, 0.641373393097531, 0.641373393097531, 0.641373393097531, 0.641373393097531, 0.641373393097531, 0.641373393097531, 0.641373393097531, 0.641373393097531, 0.641373393097531, 0.641373393097531, 0.641373393097531, 0.641373393097531, 0.641373393097531, 0.641373393097531, 0.641373393097531, 0.641373393097531, 0.641373393097531, 0.641373393097531, 0.641373393097531, 0.641373393097531, 0.641373393097531, 0.641373393097531, 0.641373393097531, 0.641373393097531, 0.641373393097531, 0.641373393097531, 0.653145263490091, 0.653145263490091]}]}, \"metricName\": null, \"primaryMetricName\": \"accuracy\", \"showLegend\": false}, \"run_metrics\": [{\"name\": \"experiment_status\", \"run_id\": \"AutoML_9c66d14c-e778-4e7e-ad2d-8a425cd3b51a\", \"categories\": [0, 1, 2, 3, 4, 5, 6, 7, 8, 9, 10, 11, 12, 13], \"series\": [{\"data\": [\"DatasetEvaluation\", \"FeaturesGeneration\", \"DatasetFeaturization\", \"DatasetFeaturizationCompleted\", \"DatasetCrossValidationSplit\", \"ModelSelection\", \"BestRunExplainModel\", \"ModelExplanationDataSetSetup\", \"PickSurrogateModel\", \"EngineeredFeatureExplanations\", \"EngineeredFeatureExplanations\", \"RawFeaturesExplanations\", \"RawFeaturesExplanations\", \"BestRunExplainModel\"]}]}, {\"name\": \"experiment_status_description\", \"run_id\": \"AutoML_9c66d14c-e778-4e7e-ad2d-8a425cd3b51a\", \"categories\": [0, 1, 2, 3, 4, 5, 6, 7, 8, 9, 10, 11, 12, 13], \"series\": [{\"data\": [\"Gathering dataset statistics.\", \"Generating features for the dataset.\", \"Beginning to fit featurizers and featurize the dataset.\", \"Completed fit featurizers and featurizing the dataset.\", \"Generating individually featurized CV splits.\", \"Beginning model selection.\", \"Best run model explanations started\", \"Model explanations data setup completed\", \"Choosing LightGBM as the surrogate model for explanations\", \"Computation of engineered features started\", \"Computation of engineered features completed\", \"Computation of raw features started\", \"Computation of raw features completed\", \"Best run model explanations completed\"]}]}, {\"name\": \"balanced_accuracy\", \"run_id\": \"AutoML_9c66d14c-e778-4e7e-ad2d-8a425cd3b51a\", \"categories\": [0], \"series\": [{\"data\": [0.8265726317450456]}]}, {\"name\": \"f1_score_weighted\", \"run_id\": \"AutoML_9c66d14c-e778-4e7e-ad2d-8a425cd3b51a\", \"categories\": [0], \"series\": [{\"data\": [0.8601141505949665]}]}, {\"name\": \"log_loss\", \"run_id\": \"AutoML_9c66d14c-e778-4e7e-ad2d-8a425cd3b51a\", \"categories\": [0], \"series\": [{\"data\": [0.4275076824621962]}]}, {\"name\": \"matthews_correlation\", \"run_id\": \"AutoML_9c66d14c-e778-4e7e-ad2d-8a425cd3b51a\", \"categories\": [0], \"series\": [{\"data\": [0.693356364732665]}]}, {\"name\": \"f1_score_micro\", \"run_id\": \"AutoML_9c66d14c-e778-4e7e-ad2d-8a425cd3b51a\", \"categories\": [0], \"series\": [{\"data\": [0.8662626262626264]}]}, {\"name\": \"recall_score_weighted\", \"run_id\": \"AutoML_9c66d14c-e778-4e7e-ad2d-8a425cd3b51a\", \"categories\": [0], \"series\": [{\"data\": [0.8662626262626264]}]}, {\"name\": \"precision_score_weighted\", \"run_id\": \"AutoML_9c66d14c-e778-4e7e-ad2d-8a425cd3b51a\", \"categories\": [0], \"series\": [{\"data\": [0.87249149398118]}]}, {\"name\": \"f1_score_macro\", \"run_id\": \"AutoML_9c66d14c-e778-4e7e-ad2d-8a425cd3b51a\", \"categories\": [0], \"series\": [{\"data\": [0.83687758736326]}]}, {\"name\": \"recall_score_micro\", \"run_id\": \"AutoML_9c66d14c-e778-4e7e-ad2d-8a425cd3b51a\", \"categories\": [0], \"series\": [{\"data\": [0.8662626262626264]}]}, {\"name\": \"average_precision_score_macro\", \"run_id\": \"AutoML_9c66d14c-e778-4e7e-ad2d-8a425cd3b51a\", \"categories\": [0], \"series\": [{\"data\": [0.875620000863291]}]}, {\"name\": \"precision_score_macro\", \"run_id\": \"AutoML_9c66d14c-e778-4e7e-ad2d-8a425cd3b51a\", \"categories\": [0], \"series\": [{\"data\": [0.8696531824168955]}]}, {\"name\": \"accuracy\", \"run_id\": \"AutoML_9c66d14c-e778-4e7e-ad2d-8a425cd3b51a\", \"categories\": [0], \"series\": [{\"data\": [0.8662626262626264]}]}, {\"name\": \"recall_score_macro\", \"run_id\": \"AutoML_9c66d14c-e778-4e7e-ad2d-8a425cd3b51a\", \"categories\": [0], \"series\": [{\"data\": [0.8265726317450456]}]}, {\"name\": \"weighted_accuracy\", \"run_id\": \"AutoML_9c66d14c-e778-4e7e-ad2d-8a425cd3b51a\", \"categories\": [0], \"series\": [{\"data\": [0.897745392091904]}]}, {\"name\": \"AUC_weighted\", \"run_id\": \"AutoML_9c66d14c-e778-4e7e-ad2d-8a425cd3b51a\", \"categories\": [0], \"series\": [{\"data\": [0.894890999373758]}]}, {\"name\": \"norm_macro_recall\", \"run_id\": \"AutoML_9c66d14c-e778-4e7e-ad2d-8a425cd3b51a\", \"categories\": [0], \"series\": [{\"data\": [0.653145263490091]}]}, {\"name\": \"AUC_macro\", \"run_id\": \"AutoML_9c66d14c-e778-4e7e-ad2d-8a425cd3b51a\", \"categories\": [0], \"series\": [{\"data\": [0.894890999373758]}]}, {\"name\": \"AUC_micro\", \"run_id\": \"AutoML_9c66d14c-e778-4e7e-ad2d-8a425cd3b51a\", \"categories\": [0], \"series\": [{\"data\": [0.9030172771485904]}]}, {\"name\": \"average_precision_score_weighted\", \"run_id\": \"AutoML_9c66d14c-e778-4e7e-ad2d-8a425cd3b51a\", \"categories\": [0], \"series\": [{\"data\": [0.9013953697130807]}]}, {\"name\": \"average_precision_score_micro\", \"run_id\": \"AutoML_9c66d14c-e778-4e7e-ad2d-8a425cd3b51a\", \"categories\": [0], \"series\": [{\"data\": [0.902898166120834]}]}, {\"name\": \"precision_score_micro\", \"run_id\": \"AutoML_9c66d14c-e778-4e7e-ad2d-8a425cd3b51a\", \"categories\": [0], \"series\": [{\"data\": [0.8662626262626264]}]}], \"run_logs\": \"\\nRun is completed.\", \"graph\": {}, \"widget_settings\": {\"childWidgetDisplay\": \"popup\", \"send_telemetry\": false, \"log_level\": \"INFO\", \"sdk_version\": \"1.19.0\"}, \"loading\": false}"
     },
     "metadata": {},
     "output_type": "display_data"
    }
   ],
   "source": [
    "RunDetails(remote_run).show()"
   ]
  },
  {
   "cell_type": "markdown",
   "metadata": {},
   "source": [
    "## Best Model\n",
    "\n",
    "TODO: In the cell below, get the best model from the automl experiments and display all the properties of the model.\n",
    "\n"
   ]
  },
  {
   "cell_type": "code",
   "execution_count": 19,
   "metadata": {
    "gather": {
     "logged": 1598431425670
    },
    "jupyter": {
     "outputs_hidden": false,
     "source_hidden": false
    },
    "nteract": {
     "transient": {
      "deleting": false
     }
    }
   },
   "outputs": [
    {
     "name": "stdout",
     "output_type": "stream",
     "text": [
      "Run(Experiment: udacity-exp-automl,\n",
      "Id: AutoML_9c66d14c-e778-4e7e-ad2d-8a425cd3b51a_36,\n",
      "Type: azureml.scriptrun,\n",
      "Status: Completed)\n",
      "Pipeline(memory=None,\n",
      "         steps=[('datatransformer',\n",
      "                 DataTransformer(enable_dnn=None, enable_feature_sweeping=None,\n",
      "                                 feature_sweeping_config=None,\n",
      "                                 feature_sweeping_timeout=None,\n",
      "                                 featurization_config=None, force_text_dnn=None,\n",
      "                                 is_cross_validation=None,\n",
      "                                 is_onnx_compatible=None, logger=None,\n",
      "                                 observer=None, task=None, working_dir=None)),\n",
      "                ('prefittedsoftvotingclassifier',...\n",
      "                                                                                                  min_weight_fraction_leaf=0.0,\n",
      "                                                                                                  n_estimators=600,\n",
      "                                                                                                  n_jobs=-1,\n",
      "                                                                                                  oob_score=False,\n",
      "                                                                                                  random_state=None,\n",
      "                                                                                                  verbose=0,\n",
      "                                                                                                  warm_start=False))],\n",
      "                                                                     verbose=False))],\n",
      "                                               flatten_transform=None,\n",
      "                                               weights=[0.09090909090909091,\n",
      "                                                        0.09090909090909091,\n",
      "                                                        0.09090909090909091,\n",
      "                                                        0.09090909090909091,\n",
      "                                                        0.09090909090909091,\n",
      "                                                        0.2727272727272727,\n",
      "                                                        0.09090909090909091,\n",
      "                                                        0.09090909090909091,\n",
      "                                                        0.09090909090909091]))],\n",
      "         verbose=False)\n"
     ]
    }
   ],
   "source": [
    "# Retrieve your best automl model.\n",
    "best_run, model = remote_run.get_output()\n",
    "\n",
    "# Printt the status of the best run and the model.\n",
    "print(best_run)\n",
    "print(model)"
   ]
  },
  {
   "cell_type": "code",
   "execution_count": 20,
   "metadata": {
    "gather": {
     "logged": 1598431426111
    },
    "jupyter": {
     "outputs_hidden": false,
     "source_hidden": false
    },
    "nteract": {
     "transient": {
      "deleting": false
     }
    }
   },
   "outputs": [
    {
     "data": {
      "text/plain": [
       "[('datatransformer',\n",
       "  DataTransformer(enable_dnn=None, enable_feature_sweeping=None,\n",
       "                  feature_sweeping_config=None, feature_sweeping_timeout=None,\n",
       "                  featurization_config=None, force_text_dnn=None,\n",
       "                  is_cross_validation=None, is_onnx_compatible=None, logger=None,\n",
       "                  observer=None, task=None, working_dir=None)),\n",
       " ('prefittedsoftvotingclassifier',\n",
       "  PreFittedSoftVotingClassifier(classification_labels=None,\n",
       "                                estimators=[('4',\n",
       "                                             Pipeline(memory=None,\n",
       "                                                      steps=[('minmaxscaler',\n",
       "                                                              MinMaxScaler(copy=True,\n",
       "                                                                           feature_range=(0,\n",
       "                                                                                          1))),\n",
       "                                                             ('randomforestclassifier',\n",
       "                                                              RandomForestClassifier(bootstrap=True,\n",
       "                                                                                     ccp_alpha=0.0,\n",
       "                                                                                     class_weight='balanced',\n",
       "                                                                                     criterion='gini',\n",
       "                                                                                     max_depth=None,\n",
       "                                                                                     max_features='log2',\n",
       "                                                                                     max_leaf_nodes=None,\n",
       "                                                                                     max_samples=N...\n",
       "                                                                                   min_samples_split=0.01,\n",
       "                                                                                   min_weight_fraction_leaf=0.0,\n",
       "                                                                                   n_estimators=600,\n",
       "                                                                                   n_jobs=-1,\n",
       "                                                                                   oob_score=False,\n",
       "                                                                                   random_state=None,\n",
       "                                                                                   verbose=0,\n",
       "                                                                                   warm_start=False))],\n",
       "                                                      verbose=False))],\n",
       "                                flatten_transform=None,\n",
       "                                weights=[0.09090909090909091, 0.09090909090909091,\n",
       "                                         0.09090909090909091, 0.09090909090909091,\n",
       "                                         0.09090909090909091, 0.2727272727272727,\n",
       "                                         0.09090909090909091, 0.09090909090909091,\n",
       "                                         0.09090909090909091]))]"
      ]
     },
     "execution_count": 20,
     "metadata": {},
     "output_type": "execute_result"
    }
   ],
   "source": [
    "# Output the model steps.\n",
    "model.steps"
   ]
  },
  {
   "cell_type": "code",
   "execution_count": 21,
   "metadata": {},
   "outputs": [
    {
     "name": "stdout",
     "output_type": "stream",
     "text": [
      "datatransformer\n",
      "{'enable_dnn': None,\n",
      " 'enable_feature_sweeping': None,\n",
      " 'feature_sweeping_config': None,\n",
      " 'feature_sweeping_timeout': None,\n",
      " 'featurization_config': None,\n",
      " 'force_text_dnn': None,\n",
      " 'is_cross_validation': None,\n",
      " 'is_onnx_compatible': None,\n",
      " 'logger': None,\n",
      " 'observer': None,\n",
      " 'task': None,\n",
      " 'working_dir': None}\n",
      "\n",
      "prefittedsoftvotingclassifier\n",
      "{'estimators': ['4', '6', '5', '31', '18', '8', '21', '26', '29'],\n",
      " 'weights': [0.09090909090909091,\n",
      "             0.09090909090909091,\n",
      "             0.09090909090909091,\n",
      "             0.09090909090909091,\n",
      "             0.09090909090909091,\n",
      "             0.2727272727272727,\n",
      "             0.09090909090909091,\n",
      "             0.09090909090909091,\n",
      "             0.09090909090909091]}\n",
      "\n",
      "4 - minmaxscaler\n",
      "{'copy': True, 'feature_range': (0, 1)}\n",
      "\n",
      "4 - randomforestclassifier\n",
      "{'bootstrap': True,\n",
      " 'ccp_alpha': 0.0,\n",
      " 'class_weight': 'balanced',\n",
      " 'criterion': 'gini',\n",
      " 'max_depth': None,\n",
      " 'max_features': 'log2',\n",
      " 'max_leaf_nodes': None,\n",
      " 'max_samples': None,\n",
      " 'min_impurity_decrease': 0.0,\n",
      " 'min_impurity_split': None,\n",
      " 'min_samples_leaf': 0.01,\n",
      " 'min_samples_split': 0.01,\n",
      " 'min_weight_fraction_leaf': 0.0,\n",
      " 'n_estimators': 25,\n",
      " 'n_jobs': -1,\n",
      " 'oob_score': True,\n",
      " 'random_state': None,\n",
      " 'verbose': 0,\n",
      " 'warm_start': False}\n",
      "\n",
      "6 - standardscalerwrapper\n",
      "{'class_name': 'StandardScaler',\n",
      " 'copy': True,\n",
      " 'module_name': 'sklearn.preprocessing._data',\n",
      " 'with_mean': False,\n",
      " 'with_std': False}\n",
      "\n",
      "6 - xgboostclassifier\n",
      "{'base_score': 0.5,\n",
      " 'booster': 'gbtree',\n",
      " 'colsample_bylevel': 1,\n",
      " 'colsample_bynode': 1,\n",
      " 'colsample_bytree': 0.8,\n",
      " 'eta': 0.01,\n",
      " 'gamma': 0,\n",
      " 'grow_policy': 'lossguide',\n",
      " 'learning_rate': 0.1,\n",
      " 'max_bin': 255,\n",
      " 'max_delta_step': 0,\n",
      " 'max_depth': 6,\n",
      " 'max_leaves': 3,\n",
      " 'min_child_weight': 1,\n",
      " 'missing': nan,\n",
      " 'n_estimators': 10,\n",
      " 'n_jobs': -1,\n",
      " 'nthread': None,\n",
      " 'objective': 'reg:logistic',\n",
      " 'random_state': 0,\n",
      " 'reg_alpha': 0.3125,\n",
      " 'reg_lambda': 1.6666666666666667,\n",
      " 'scale_pos_weight': 1,\n",
      " 'seed': None,\n",
      " 'silent': None,\n",
      " 'subsample': 0.6,\n",
      " 'tree_method': 'hist',\n",
      " 'verbose': -10,\n",
      " 'verbosity': 0}\n",
      "\n",
      "5 - robustscaler\n",
      "{'copy': True,\n",
      " 'quantile_range': [25, 75],\n",
      " 'with_centering': False,\n",
      " 'with_scaling': True}\n",
      "\n",
      "5 - lightgbmclassifier\n",
      "{'boosting_type': 'goss',\n",
      " 'class_weight': None,\n",
      " 'colsample_bytree': 0.7922222222222222,\n",
      " 'importance_type': 'split',\n",
      " 'learning_rate': 0.005272631578947368,\n",
      " 'max_bin': 160,\n",
      " 'max_depth': 7,\n",
      " 'min_child_samples': 19,\n",
      " 'min_child_weight': 0,\n",
      " 'min_split_gain': 0.2631578947368421,\n",
      " 'n_estimators': 800,\n",
      " 'n_jobs': -1,\n",
      " 'num_leaves': 239,\n",
      " 'objective': None,\n",
      " 'random_state': None,\n",
      " 'reg_alpha': 0.5263157894736842,\n",
      " 'reg_lambda': 0.10526315789473684,\n",
      " 'silent': True,\n",
      " 'subsample': 1,\n",
      " 'subsample_for_bin': 200000,\n",
      " 'subsample_freq': 0,\n",
      " 'verbose': -10}\n",
      "\n",
      "31 - maxabsscaler\n",
      "{'copy': True}\n",
      "\n",
      "31 - lightgbmclassifier\n",
      "{'boosting_type': 'gbdt',\n",
      " 'class_weight': None,\n",
      " 'colsample_bytree': 0.7922222222222222,\n",
      " 'importance_type': 'split',\n",
      " 'learning_rate': 0.05263631578947369,\n",
      " 'max_bin': 90,\n",
      " 'max_depth': 7,\n",
      " 'min_child_samples': 8,\n",
      " 'min_child_weight': 5,\n",
      " 'min_split_gain': 0.10526315789473684,\n",
      " 'n_estimators': 50,\n",
      " 'n_jobs': -1,\n",
      " 'num_leaves': 176,\n",
      " 'objective': None,\n",
      " 'random_state': None,\n",
      " 'reg_alpha': 0.7368421052631579,\n",
      " 'reg_lambda': 0.47368421052631576,\n",
      " 'silent': True,\n",
      " 'subsample': 0.8415789473684211,\n",
      " 'subsample_for_bin': 200000,\n",
      " 'subsample_freq': 0,\n",
      " 'verbose': -10}\n",
      "\n",
      "18 - standardscalerwrapper\n",
      "{'class_name': 'StandardScaler',\n",
      " 'copy': True,\n",
      " 'module_name': 'sklearn.preprocessing._data',\n",
      " 'with_mean': False,\n",
      " 'with_std': False}\n",
      "\n",
      "18 - xgboostclassifier\n",
      "{'base_score': 0.5,\n",
      " 'booster': 'gbtree',\n",
      " 'colsample_bylevel': 1,\n",
      " 'colsample_bynode': 1,\n",
      " 'colsample_bytree': 0.7,\n",
      " 'eta': 0.3,\n",
      " 'gamma': 0,\n",
      " 'grow_policy': 'lossguide',\n",
      " 'learning_rate': 0.1,\n",
      " 'max_bin': 1023,\n",
      " 'max_delta_step': 0,\n",
      " 'max_depth': 2,\n",
      " 'max_leaves': 0,\n",
      " 'min_child_weight': 1,\n",
      " 'missing': nan,\n",
      " 'n_estimators': 10,\n",
      " 'n_jobs': -1,\n",
      " 'nthread': None,\n",
      " 'objective': 'reg:logistic',\n",
      " 'random_state': 0,\n",
      " 'reg_alpha': 0.9375,\n",
      " 'reg_lambda': 1.0416666666666667,\n",
      " 'scale_pos_weight': 1,\n",
      " 'seed': None,\n",
      " 'silent': None,\n",
      " 'subsample': 1,\n",
      " 'tree_method': 'hist',\n",
      " 'verbose': -10,\n",
      " 'verbosity': 0}\n",
      "\n",
      "8 - sparsenormalizer\n",
      "{'copy': True, 'norm': 'l2'}\n",
      "\n",
      "8 - xgboostclassifier\n",
      "{'base_score': 0.5,\n",
      " 'booster': 'gbtree',\n",
      " 'colsample_bylevel': 1,\n",
      " 'colsample_bynode': 1,\n",
      " 'colsample_bytree': 0.5,\n",
      " 'eta': 0.1,\n",
      " 'gamma': 0,\n",
      " 'learning_rate': 0.1,\n",
      " 'max_delta_step': 0,\n",
      " 'max_depth': 6,\n",
      " 'max_leaves': 15,\n",
      " 'min_child_weight': 1,\n",
      " 'missing': nan,\n",
      " 'n_estimators': 100,\n",
      " 'n_jobs': -1,\n",
      " 'nthread': None,\n",
      " 'objective': 'reg:logistic',\n",
      " 'random_state': 0,\n",
      " 'reg_alpha': 0,\n",
      " 'reg_lambda': 2.0833333333333335,\n",
      " 'scale_pos_weight': 1,\n",
      " 'seed': None,\n",
      " 'silent': None,\n",
      " 'subsample': 1,\n",
      " 'tree_method': 'auto',\n",
      " 'verbose': -10,\n",
      " 'verbosity': 0}\n",
      "\n",
      "21 - sparsenormalizer\n",
      "{'copy': True, 'norm': 'l1'}\n",
      "\n",
      "21 - xgboostclassifier\n",
      "{'base_score': 0.5,\n",
      " 'booster': 'gbtree',\n",
      " 'colsample_bylevel': 1,\n",
      " 'colsample_bynode': 1,\n",
      " 'colsample_bytree': 0.7,\n",
      " 'eta': 0.2,\n",
      " 'gamma': 0,\n",
      " 'learning_rate': 0.1,\n",
      " 'max_delta_step': 0,\n",
      " 'max_depth': 7,\n",
      " 'max_leaves': 31,\n",
      " 'min_child_weight': 1,\n",
      " 'missing': nan,\n",
      " 'n_estimators': 10,\n",
      " 'n_jobs': -1,\n",
      " 'nthread': None,\n",
      " 'objective': 'reg:logistic',\n",
      " 'random_state': 0,\n",
      " 'reg_alpha': 0,\n",
      " 'reg_lambda': 0.625,\n",
      " 'scale_pos_weight': 1,\n",
      " 'seed': None,\n",
      " 'silent': None,\n",
      " 'subsample': 1,\n",
      " 'tree_method': 'auto',\n",
      " 'verbose': -10,\n",
      " 'verbosity': 0}\n",
      "\n",
      "26 - minmaxscaler\n",
      "{'copy': True, 'feature_range': (0, 1)}\n",
      "\n",
      "26 - lightgbmclassifier\n",
      "{'boosting_type': 'goss',\n",
      " 'class_weight': None,\n",
      " 'colsample_bytree': 0.5944444444444444,\n",
      " 'importance_type': 'split',\n",
      " 'learning_rate': 0.010535263157894737,\n",
      " 'max_bin': 170,\n",
      " 'max_depth': 9,\n",
      " 'min_child_samples': 6,\n",
      " 'min_child_weight': 4,\n",
      " 'min_split_gain': 0.5263157894736842,\n",
      " 'n_estimators': 100,\n",
      " 'n_jobs': -1,\n",
      " 'num_leaves': 77,\n",
      " 'objective': None,\n",
      " 'random_state': None,\n",
      " 'reg_alpha': 0,\n",
      " 'reg_lambda': 0.05263157894736842,\n",
      " 'silent': True,\n",
      " 'subsample': 1,\n",
      " 'subsample_for_bin': 200000,\n",
      " 'subsample_freq': 0,\n",
      " 'verbose': -10}\n",
      "\n",
      "29 - maxabsscaler\n",
      "{'copy': True}\n",
      "\n",
      "29 - extratreesclassifier\n",
      "{'bootstrap': False,\n",
      " 'ccp_alpha': 0.0,\n",
      " 'class_weight': 'balanced',\n",
      " 'criterion': 'entropy',\n",
      " 'max_depth': None,\n",
      " 'max_features': 0.05,\n",
      " 'max_leaf_nodes': None,\n",
      " 'max_samples': None,\n",
      " 'min_impurity_decrease': 0.0,\n",
      " 'min_impurity_split': None,\n",
      " 'min_samples_leaf': 0.06157894736842105,\n",
      " 'min_samples_split': 0.01,\n",
      " 'min_weight_fraction_leaf': 0.0,\n",
      " 'n_estimators': 600,\n",
      " 'n_jobs': -1,\n",
      " 'oob_score': False,\n",
      " 'random_state': None,\n",
      " 'verbose': 0,\n",
      " 'warm_start': False}\n",
      "\n"
     ]
    }
   ],
   "source": [
    "# More details regarding the model can be found below.\n",
    "from pprint import pprint\n",
    "\n",
    "def print_model(model, prefix=\"\"):\n",
    "    for step in model.steps:\n",
    "        print(prefix + step[0])\n",
    "        if hasattr(step[1], 'estimators') and hasattr(step[1], 'weights'):\n",
    "            pprint({'estimators': list(\n",
    "                e[0] for e in step[1].estimators), 'weights': step[1].weights})\n",
    "            print()\n",
    "            for estimator in step[1].estimators:\n",
    "                print_model(estimator[1], estimator[0] + ' - ')\n",
    "        else:\n",
    "            pprint(step[1].get_params())\n",
    "            print()\n",
    "\n",
    "print_model(model)"
   ]
  },
  {
   "cell_type": "markdown",
   "metadata": {},
   "source": [
    "## Model Deployment\n",
    "\n",
    "Remember you have to deploy only one of the two models you trained.. Perform the steps in the rest of this notebook only if you wish to deploy this model.\n",
    "\n",
    "TODO: In the cell below, register the model, create an inference config and deploy the model as a web service."
   ]
  },
  {
   "cell_type": "code",
   "execution_count": 4,
   "metadata": {
    "gather": {
     "logged": 1598431435189
    },
    "jupyter": {
     "outputs_hidden": false,
     "source_hidden": false
    },
    "nteract": {
     "transient": {
      "deleting": false
     }
    }
   },
   "outputs": [],
   "source": [
    "# Register the best model.\n",
    "model = best_run.register_model(model_name='automl-best',model_path='outputs/model.pkl')\n",
    "\n",
    "# Find an existing registered model.\n",
    "# model = Model(ws, name='automl-best')"
   ]
  },
  {
   "cell_type": "code",
   "execution_count": 87,
   "metadata": {},
   "outputs": [
    {
     "name": "stdout",
     "output_type": "stream",
     "text": [
      "Tips: You can try get_logs(): https://aka.ms/debugimage#dockerlog or local deployment: https://aka.ms/debugimage#debug-locally to debug if deployment takes longer than 10 minutes.\n",
      "Running.....................................\n",
      "Succeeded\n",
      "ACI service creation operation finished, operation \"Succeeded\"\n"
     ]
    }
   ],
   "source": [
    "#Get an environment with AutoML packages installed.\n",
    "environment = Environment.get(workspace=ws, name=\"AzureML-AutoML\")\n",
    "\n",
    "# Install scikit-learn to the environment.\n",
    "for pip_package in [\"scikit-learn\"]:\n",
    "    environment.python.conda_dependencies.add_pip_package(pip_package)\n",
    "\n",
    "# Set the name of the endpoint service you will deploy. \n",
    "service_name = 'automl-best-sv'\n",
    "\n",
    "# Define the inference and deployment config.\n",
    "inference_config = InferenceConfig(entry_script='score.py', environment=environment)\n",
    "deployment_config = AciWebservice.deploy_configuration(cpu_cores = 1, memory_gb = 1)\n",
    "\n",
    "# Deploy the model on Azure.\n",
    "service = Model.deploy(workspace = ws,\n",
    "                       name = service_name,\n",
    "                       models = [model],\n",
    "                       inference_config = inference_config,\n",
    "                       deployment_config = deployment_config)\n",
    "\n",
    "service.wait_for_deployment(show_output=True)"
   ]
  },
  {
   "cell_type": "code",
   "execution_count": 68,
   "metadata": {},
   "outputs": [
    {
     "name": "stdout",
     "output_type": "stream",
     "text": [
      "[AciWebservice(workspace=Workspace.create(name='udacity-ws', subscription_id='12d8a290-6d86-4923-bc31-637a3ee790ed', resource_group='udacity-rg'), name=automl-2nd-best, image_id=None, compute_type=None, state=ACI, scoring_uri=None, tags=http://a4fcf479-b8a6-4646-b5f2-f5c45351c624.eastus.azurecontainer.io/score, properties={}, created_by={'runId': 'AutoML_9c66d14c-e778-4e7e-ad2d-8a425cd3b51a_4', 'hasInferenceSchema': 'True', 'hasHttps': 'False'}), AciWebservice(workspace=Workspace.create(name='udacity-ws', subscription_id='12d8a290-6d86-4923-bc31-637a3ee790ed', resource_group='udacity-rg'), name=automl-best-sv, image_id=None, compute_type=None, state=ACI, scoring_uri=None, tags=http://0891ed9d-f463-433b-86b9-45fc38bd6c16.eastus.azurecontainer.io/score, properties={}, created_by={'hasInferenceSchema': 'False', 'hasHttps': 'False'})]\n"
     ]
    }
   ],
   "source": [
    "# RUN THIS CELL IF YOU NEED TO WORK WITH A PREVIOUSLY DEPLOYED ENDPOINT.\n",
    "'''\n",
    "from azureml.core import Webservice\n",
    "\n",
    "# Print a list of deployed web services.\n",
    "services = Webservice.list(ws)\n",
    "print(services)\n",
    "\n",
    "# Create a new instance of the deployed web service (if previously deployed)\n",
    "service = Webservice(workspace=ws, name='automl-best-sv')\n",
    "'''"
   ]
  },
  {
   "cell_type": "markdown",
   "metadata": {
    "collapsed": true,
    "gather": {
     "logged": 1598431657736
    },
    "jupyter": {
     "outputs_hidden": false,
     "source_hidden": false
    },
    "nteract": {
     "transient": {
      "deleting": false
     }
    }
   },
   "source": [
    "TODO: In the cell below, send a request to the web service you deployed to test it."
   ]
  },
  {
   "cell_type": "code",
   "execution_count": 88,
   "metadata": {
    "gather": {
     "logged": 1598432707604
    },
    "jupyter": {
     "outputs_hidden": false,
     "source_hidden": false
    },
    "nteract": {
     "transient": {
      "deleting": false
     }
    }
   },
   "outputs": [],
   "source": [
    "# Enable application insights for the logging\n",
    "service.update(enable_app_insights=True)"
   ]
  },
  {
   "cell_type": "code",
   "execution_count": 89,
   "metadata": {},
   "outputs": [
    {
     "name": "stdout",
     "output_type": "stream",
     "text": [
      "[{'age': 75, 'anaemia': 0, 'creatinine_phosphokinase': 582, 'diabetes': 0, 'ejection_fraction': 20, 'high_blood_pressure': 1, 'platelets': 265000, 'serum_creatinine': 1.9, 'serum_sodium': 130, 'sex': 1, 'smoking': 0, 'time': 4}, {'age': 75, 'anaemia': 0, 'creatinine_phosphokinase': 582, 'diabetes': 0, 'ejection_fraction': 20, 'high_blood_pressure': 1, 'platelets': 265000, 'serum_creatinine': 1.9, 'serum_sodium': 130, 'sex': 1, 'smoking': 0, 'time': 4}]\n"
     ]
    }
   ],
   "source": [
    "test_data = [{\"age\": 75, \n",
    " \"anaemia\": 0, \n",
    " \"creatinine_phosphokinase\": 582, \n",
    " \"diabetes\": 0, \n",
    " \"ejection_fraction\": 20, \n",
    " \"high_blood_pressure\": 1, \n",
    " \"platelets\": 265000, \n",
    " \"serum_creatinine\": 1.9, \n",
    " \"serum_sodium\": 130, \n",
    " \"sex\": 1, \n",
    " \"smoking\": 0, \n",
    " \"time\": 4},\n",
    "\n",
    "{\"age\": 75, \n",
    " \"anaemia\": 0, \n",
    " \"creatinine_phosphokinase\": 582, \n",
    " \"diabetes\": 0, \n",
    " \"ejection_fraction\": 20, \n",
    " \"high_blood_pressure\": 1, \n",
    " \"platelets\": 265000, \n",
    " \"serum_creatinine\": 1.9, \n",
    " \"serum_sodium\": 130, \n",
    " \"sex\": 1, \n",
    " \"smoking\": 0, \n",
    " \"time\": 4}]\n",
    "\n",
    "print(test_data)"
   ]
  },
  {
   "cell_type": "code",
   "execution_count": 90,
   "metadata": {},
   "outputs": [
    {
     "name": "stdout",
     "output_type": "stream",
     "text": [
      "[1, 1]\n"
     ]
    }
   ],
   "source": [
    "# Create a JSON payload and then pass it to the new endpoint for inference.\n",
    "input_payload = json.dumps({\n",
    "    'data': test_data\n",
    "})\n",
    "\n",
    "# print(input_payload)\n",
    "\n",
    "output = service.run(input_payload)\n",
    "print(output)"
   ]
  },
  {
   "cell_type": "markdown",
   "metadata": {
    "collapsed": true,
    "gather": {
     "logged": 1598432765711
    },
    "jupyter": {
     "outputs_hidden": false,
     "source_hidden": false
    },
    "nteract": {
     "transient": {
      "deleting": false
     }
    }
   },
   "source": [
    "TODO: In the cell below, print the logs of the web service and delete the service"
   ]
  },
  {
   "cell_type": "code",
   "execution_count": 91,
   "metadata": {
    "jupyter": {
     "outputs_hidden": false,
     "source_hidden": false
    },
    "nteract": {
     "transient": {
      "deleting": false
     }
    }
   },
   "outputs": [
    {
     "name": "stdout",
     "output_type": "stream",
     "text": [
      "2021-01-10T08:25:00,599695300+00:00 - gunicorn/run \n",
      "2021-01-10T08:25:00,622875000+00:00 - iot-server/run \n",
      "2021-01-10T08:25:00,658445500+00:00 - rsyslog/run \n",
      "2021-01-10T08:25:00,686475500+00:00 - nginx/run \n",
      "/usr/sbin/nginx: /azureml-envs/azureml_8eff28b157f42edcd2424a5aae6c8074/lib/libcrypto.so.1.0.0: no version information available (required by /usr/sbin/nginx)\n",
      "/usr/sbin/nginx: /azureml-envs/azureml_8eff28b157f42edcd2424a5aae6c8074/lib/libcrypto.so.1.0.0: no version information available (required by /usr/sbin/nginx)\n",
      "/usr/sbin/nginx: /azureml-envs/azureml_8eff28b157f42edcd2424a5aae6c8074/lib/libssl.so.1.0.0: no version information available (required by /usr/sbin/nginx)\n",
      "/usr/sbin/nginx: /azureml-envs/azureml_8eff28b157f42edcd2424a5aae6c8074/lib/libssl.so.1.0.0: no version information available (required by /usr/sbin/nginx)\n",
      "/usr/sbin/nginx: /azureml-envs/azureml_8eff28b157f42edcd2424a5aae6c8074/lib/libssl.so.1.0.0: no version information available (required by /usr/sbin/nginx)\n",
      "rsyslogd: /azureml-envs/azureml_8eff28b157f42edcd2424a5aae6c8074/lib/libuuid.so.1: no version information available (required by rsyslogd)\n",
      "EdgeHubConnectionString and IOTEDGE_IOTHUBHOSTNAME are not set. Exiting...\n",
      "2021-01-10T08:25:01,770764500+00:00 - iot-server/finish 1 0\n",
      "2021-01-10T08:25:01,781696700+00:00 - Exit code 1 is normal. Not restarting iot-server.\n",
      "Starting gunicorn 19.9.0\n",
      "Listening at: http://127.0.0.1:31311 (122)\n",
      "Using worker: sync\n",
      "worker timeout is set to 300\n",
      "Booting worker with pid: 151\n",
      "SPARK_HOME not set. Skipping PySpark Initialization.\n",
      "Generating new fontManager, this may take some time...\n",
      "Initializing logger\n",
      "2021-01-10 08:25:09,663 | root | INFO | Starting up app insights client\n",
      "Starting up app insights client\n",
      "2021-01-10 08:25:09,665 | root | INFO | Starting up request id generator\n",
      "Starting up request id generator\n",
      "2021-01-10 08:25:09,665 | root | INFO | Starting up app insight hooks\n",
      "Starting up app insight hooks\n",
      "2021-01-10 08:25:09,667 | root | INFO | Invoking user's init function\n",
      "Invoking user's init function\n",
      "2021-01-10 08:25:21,912 | root | INFO | Users's init has completed successfully\n",
      "Users's init has completed successfully\n",
      "2021-01-10 08:25:21,921 | root | INFO | Skipping middleware: dbg_model_info as it's not enabled.\n",
      "Skipping middleware: dbg_model_info as it's not enabled.\n",
      "2021-01-10 08:25:21,921 | root | INFO | Skipping middleware: dbg_resource_usage as it's not enabled.\n",
      "Skipping middleware: dbg_resource_usage as it's not enabled.\n",
      "2021-01-10 08:25:21,925 | root | INFO | Scoring timeout is found from os.environ: 60000 ms\n",
      "Scoring timeout is found from os.environ: 60000 ms\n",
      "2021-01-10 08:25:26,289 | root | INFO | Swagger file not present\n",
      "Swagger file not present\n",
      "2021-01-10 08:25:26,289 | root | INFO | 404\n",
      "404\n",
      "127.0.0.1 - - [10/Jan/2021:08:25:26 +0000] \"GET /swagger.json HTTP/1.0\" 404 19 \"-\" \"Go-http-client/1.1\"\n",
      "2021-01-10 08:25:33,086 | root | INFO | Swagger file not present\n",
      "Swagger file not present\n",
      "2021-01-10 08:25:33,086 | root | INFO | 404\n",
      "404\n",
      "127.0.0.1 - - [10/Jan/2021:08:25:33 +0000] \"GET /swagger.json HTTP/1.0\" 404 19 \"-\" \"Go-http-client/1.1\"\n",
      "2021-01-10 08:25:43,551 | root | INFO | Validation Request Content-Type\n",
      "Validation Request Content-Type\n",
      "2021-01-10 08:25:43,551 | root | INFO | \tHost: localhost:5001\n",
      "\tHost: localhost:5001\n",
      "2021-01-10 08:25:43,551 | root | INFO | \tX-Real-Ip: 127.0.0.1\n",
      "\tX-Real-Ip: 127.0.0.1\n",
      "2021-01-10 08:25:43,551 | root | INFO | \tX-Forwarded-For: 127.0.0.1\n",
      "\tX-Forwarded-For: 127.0.0.1\n",
      "2021-01-10 08:25:43,552 | root | INFO | \tX-Forwarded-Proto: http\n",
      "\tX-Forwarded-Proto: http\n",
      "2021-01-10 08:25:43,552 | root | INFO | \tConnection: close\n",
      "\tConnection: close\n",
      "2021-01-10 08:25:43,552 | root | INFO | \tContent-Length: 466\n",
      "\tContent-Length: 466\n",
      "2021-01-10 08:25:43,552 | root | INFO | \tUser-Agent: python-requests/2.25.0\n",
      "\tUser-Agent: python-requests/2.25.0\n",
      "2021-01-10 08:25:43,552 | root | INFO | \tAccept: application/json\n",
      "\tAccept: application/json\n",
      "2021-01-10 08:25:43,552 | root | INFO | \tAccept-Encoding: gzip, deflate\n",
      "\tAccept-Encoding: gzip, deflate\n",
      "2021-01-10 08:25:43,552 | root | INFO | \tContent-Type: application/json\n",
      "\tContent-Type: application/json\n",
      "2021-01-10 08:25:43,552 | root | INFO | \tX-Ms-Request-Id: 0e6b8973-c873-41d3-9d01-cfe317b1f122\n",
      "\tX-Ms-Request-Id: 0e6b8973-c873-41d3-9d01-cfe317b1f122\n",
      "2021-01-10 08:25:43,553 | root | INFO | Scoring Timer is set to 60.0 seconds\n",
      "Scoring Timer is set to 60.0 seconds\n",
      "2021-01-10 08:25:44,170 | root | INFO | 200\n",
      "200\n",
      "127.0.0.1 - - [10/Jan/2021:08:25:44 +0000] \"POST /score HTTP/1.0\" 200 6 \"-\" \"python-requests/2.25.0\"\n",
      "\n"
     ]
    }
   ],
   "source": [
    "# Return the service logs for the new endpoint.\n",
    "logs = service.get_logs()\n",
    "print(logs)"
   ]
  },
  {
   "cell_type": "code",
   "execution_count": null,
   "metadata": {},
   "outputs": [],
   "source": [
    "# Delete the service.\n",
    "service.delete()"
   ]
  }
 ],
 "metadata": {
  "kernel_info": {
   "name": "python3-azureml"
  },
  "kernelspec": {
   "display_name": "Python 3",
   "language": "python",
   "name": "python3"
  },
  "language_info": {
   "codemirror_mode": {
    "name": "ipython",
    "version": 3
   },
   "file_extension": ".py",
   "mimetype": "text/x-python",
   "name": "python",
   "nbconvert_exporter": "python",
   "pygments_lexer": "ipython3",
   "version": "3.6.9"
  },
  "nteract": {
   "version": "nteract-front-end@1.0.0"
  }
 },
 "nbformat": 4,
 "nbformat_minor": 2
}
